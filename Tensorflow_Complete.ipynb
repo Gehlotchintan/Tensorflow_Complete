{
 "cells": [
  {
   "cell_type": "code",
   "execution_count": 1,
   "metadata": {
    "id": "oHWTXVmmDhi9"
   },
   "outputs": [
    {
     "ename": "ModuleNotFoundError",
     "evalue": "No module named 'tensorflow'",
     "output_type": "error",
     "traceback": [
      "\u001b[1;31m---------------------------------------------------------------------------\u001b[0m",
      "\u001b[1;31mModuleNotFoundError\u001b[0m                       Traceback (most recent call last)",
      "\u001b[1;32m<ipython-input-1-64156d691fe5>\u001b[0m in \u001b[0;36m<module>\u001b[1;34m\u001b[0m\n\u001b[1;32m----> 1\u001b[1;33m \u001b[1;32mimport\u001b[0m \u001b[0mtensorflow\u001b[0m \u001b[1;32mas\u001b[0m \u001b[0mtf\u001b[0m\u001b[1;33m\u001b[0m\u001b[1;33m\u001b[0m\u001b[0m\n\u001b[0m",
      "\u001b[1;31mModuleNotFoundError\u001b[0m: No module named 'tensorflow'"
     ]
    }
   ],
   "source": [
    "import tensorflow as tf"
   ]
  },
  {
   "cell_type": "code",
   "execution_count": 28,
   "metadata": {
    "colab": {
     "base_uri": "https://localhost:8080/"
    },
    "id": "N1U1xUopEMq5",
    "outputId": "0d7b238f-6937-4d52-aa0d-8a6b54bf0240"
   },
   "outputs": [
    {
     "name": "stdout",
     "output_type": "stream",
     "text": [
      "2.4.0\n"
     ]
    }
   ],
   "source": [
    "print(tf.__version__)"
   ]
  },
  {
   "cell_type": "code",
   "execution_count": null,
   "metadata": {
    "id": "iOjSA3vQEQJl"
   },
   "outputs": [],
   "source": [
    "#Building a Sequential model"
   ]
  },
  {
   "cell_type": "code",
   "execution_count": 29,
   "metadata": {
    "id": "fqBja03GEUlI"
   },
   "outputs": [],
   "source": [
    "from tensorflow.keras.models import Sequential\n",
    "from tensorflow.keras.layers import Dense,Flatten,Softmax"
   ]
  },
  {
   "cell_type": "code",
   "execution_count": 30,
   "metadata": {
    "id": "8L5JHQN9EXYx"
   },
   "outputs": [],
   "source": [
    "#Build a feedforward neural network model\n",
    "model=Sequential([\n",
    "    Flatten(input_shape=(28,28)),\n",
    "    Dense(16,activation='relu'),\n",
    "    Dense(16,activation='relu'),\n",
    "    Dense(10,activation='softmax')\n",
    "])\n"
   ]
  },
  {
   "cell_type": "code",
   "execution_count": 31,
   "metadata": {
    "colab": {
     "base_uri": "https://localhost:8080/"
    },
    "id": "y5fnm0gIEdU5",
    "outputId": "fef3104e-873f-4e9d-a7cd-ce780c9f60cb"
   },
   "outputs": [
    {
     "data": {
      "text/plain": [
       "[<tf.Variable 'dense_4/kernel:0' shape=(784, 16) dtype=float32, numpy=\n",
       " array([[-0.06279187, -0.05809633,  0.08275968, ..., -0.03504479,\n",
       "          0.04925555,  0.02541268],\n",
       "        [ 0.01204287, -0.00413209, -0.03160956, ...,  0.03655203,\n",
       "         -0.08331816, -0.0242618 ],\n",
       "        [ 0.05209984,  0.0509326 ,  0.05946903, ..., -0.03610023,\n",
       "         -0.0461901 , -0.04581968],\n",
       "        ...,\n",
       "        [ 0.05383433,  0.02256293,  0.01059336, ..., -0.07230592,\n",
       "          0.04928823, -0.01146934],\n",
       "        [-0.07141338,  0.00131556, -0.00305311, ...,  0.0090585 ,\n",
       "          0.04553679, -0.0839928 ],\n",
       "        [-0.0589104 ,  0.00443771,  0.04280493, ..., -0.01770069,\n",
       "          0.07342371,  0.04975803]], dtype=float32)>,\n",
       " <tf.Variable 'dense_4/bias:0' shape=(16,) dtype=float32, numpy=\n",
       " array([0., 0., 0., 0., 0., 0., 0., 0., 0., 0., 0., 0., 0., 0., 0., 0.],\n",
       "       dtype=float32)>,\n",
       " <tf.Variable 'dense_5/kernel:0' shape=(16, 16) dtype=float32, numpy=\n",
       " array([[ 0.3315147 ,  0.4032019 , -0.19078287, -0.1727005 ,  0.27777568,\n",
       "          0.43179974,  0.07983872, -0.3434444 , -0.08964851, -0.27693945,\n",
       "          0.3438932 , -0.06391057,  0.09941766,  0.04182327, -0.3306343 ,\n",
       "         -0.02390978],\n",
       "        [ 0.05236721,  0.32900718, -0.22736   , -0.33839905, -0.08743921,\n",
       "          0.38748237,  0.14855078, -0.4239587 , -0.25072902, -0.08278635,\n",
       "         -0.07646444,  0.29805663,  0.3221229 , -0.03100792, -0.35137084,\n",
       "         -0.431773  ],\n",
       "        [-0.37471694, -0.01346093, -0.38300574,  0.2610562 , -0.3129086 ,\n",
       "          0.04988751,  0.1024892 ,  0.38194802, -0.03063524,  0.21422717,\n",
       "          0.09940878,  0.26629928, -0.30554605, -0.18816063,  0.08937368,\n",
       "         -0.02172431],\n",
       "        [-0.25597557,  0.20177624, -0.34864008,  0.00823542,  0.04962695,\n",
       "         -0.28943914, -0.42536512,  0.19338605,  0.2937576 , -0.01765436,\n",
       "          0.31019363,  0.11603466, -0.37763858, -0.29734492, -0.363765  ,\n",
       "          0.18852785],\n",
       "        [ 0.11123189, -0.23789856,  0.07041582,  0.31174955, -0.27608258,\n",
       "          0.21952   ,  0.13636741, -0.08588672, -0.21388513, -0.40544778,\n",
       "         -0.07834741, -0.39596367, -0.18110833,  0.10491642, -0.24608245,\n",
       "         -0.32964972],\n",
       "        [-0.29629785, -0.14127982,  0.07411829, -0.1323202 , -0.06642711,\n",
       "         -0.15837175, -0.05143392,  0.08877602, -0.00208169,  0.22360793,\n",
       "         -0.04298791, -0.1141488 , -0.2075272 ,  0.01644307,  0.16650185,\n",
       "         -0.30680823],\n",
       "        [-0.3717478 , -0.18072644,  0.18628642, -0.28368607, -0.12172991,\n",
       "          0.02387819, -0.32305074, -0.26335236,  0.09805807, -0.12238473,\n",
       "          0.30749103, -0.16837108, -0.11764836, -0.31281143,  0.01311901,\n",
       "         -0.31983846],\n",
       "        [-0.19797951,  0.11488894, -0.2747609 ,  0.00841433,  0.17029259,\n",
       "          0.38453922, -0.15671787,  0.15942374,  0.43056747, -0.14411896,\n",
       "          0.32336035,  0.3925235 ,  0.22900274,  0.35289195,  0.05520624,\n",
       "          0.08466116],\n",
       "        [ 0.29483768, -0.10097972, -0.23557992, -0.2072789 ,  0.20727852,\n",
       "          0.32676098, -0.05046678,  0.20215115,  0.06836203,  0.04445741,\n",
       "         -0.01121342, -0.4201329 ,  0.11623546, -0.25709456, -0.34699798,\n",
       "         -0.00178632],\n",
       "        [-0.39661366, -0.2558521 , -0.3840888 ,  0.12562105,  0.20937607,\n",
       "          0.06848153, -0.08133855,  0.17275015,  0.09655884, -0.26698822,\n",
       "         -0.37309805,  0.09625646,  0.25236306, -0.3932002 ,  0.303144  ,\n",
       "         -0.33558592],\n",
       "        [-0.04286772,  0.4201903 , -0.07502356, -0.20096992,  0.06879601,\n",
       "         -0.15942922,  0.3914695 , -0.08594462,  0.20645013,  0.17384025,\n",
       "          0.05129302,  0.2675191 , -0.13952497, -0.02542037,  0.16831318,\n",
       "         -0.0557465 ],\n",
       "        [-0.337508  ,  0.2763001 ,  0.04929948,  0.29610875, -0.30585688,\n",
       "         -0.4169227 ,  0.09844205,  0.10303923,  0.13485667, -0.43172666,\n",
       "         -0.04166892, -0.36057577,  0.03589222,  0.05062485, -0.40820578,\n",
       "          0.13514891],\n",
       "        [ 0.11952361, -0.39576432, -0.2499795 ,  0.02167436,  0.29894033,\n",
       "          0.2683688 ,  0.11547479, -0.2856511 ,  0.27862874, -0.42397863,\n",
       "         -0.10209706, -0.36198932,  0.39426675, -0.11422241,  0.20637217,\n",
       "          0.17217574],\n",
       "        [-0.3914593 , -0.28489777,  0.34477296,  0.11918899, -0.41675648,\n",
       "          0.3806297 , -0.35926908,  0.16951033,  0.39035246, -0.36711177,\n",
       "          0.05637905,  0.14804825,  0.17201117,  0.25280336,  0.22583124,\n",
       "         -0.27489585],\n",
       "        [ 0.05047071,  0.04046527,  0.11726663,  0.02609101, -0.29647624,\n",
       "          0.28080043, -0.3378652 , -0.38026032,  0.16172555,  0.09366819,\n",
       "         -0.00864476,  0.15937707, -0.13193148,  0.42716435, -0.12195846,\n",
       "         -0.4186798 ],\n",
       "        [-0.1505594 , -0.31838724, -0.14891544, -0.38827315,  0.25041094,\n",
       "         -0.30678573,  0.29615274,  0.38108858,  0.36100563,  0.17237458,\n",
       "          0.22100124,  0.05039567,  0.19841841,  0.02636531,  0.13390169,\n",
       "         -0.20158738]], dtype=float32)>,\n",
       " <tf.Variable 'dense_5/bias:0' shape=(16,) dtype=float32, numpy=\n",
       " array([0., 0., 0., 0., 0., 0., 0., 0., 0., 0., 0., 0., 0., 0., 0., 0.],\n",
       "       dtype=float32)>,\n",
       " <tf.Variable 'dense_6/kernel:0' shape=(16, 10) dtype=float32, numpy=\n",
       " array([[-0.0655399 , -0.09586367,  0.15018374, -0.44178858,  0.20630902,\n",
       "         -0.09832427, -0.16449308,  0.1381877 ,  0.24034858,  0.34806323],\n",
       "        [-0.4308269 ,  0.46075553, -0.41993922,  0.38929397,  0.19487327,\n",
       "          0.03849006,  0.2894047 , -0.09498438, -0.17964217,  0.47559357],\n",
       "        [-0.04376119,  0.10568047,  0.40246576, -0.3005288 , -0.1272142 ,\n",
       "         -0.284375  , -0.34457552,  0.38286698, -0.05749205,  0.32225758],\n",
       "        [-0.05439633, -0.2727722 , -0.13219419,  0.4004609 , -0.34504408,\n",
       "          0.46105742, -0.03334743,  0.43772304,  0.22693235,  0.06064296],\n",
       "        [-0.14738154, -0.3112021 , -0.15121427,  0.24933171,  0.30370802,\n",
       "          0.28713948, -0.16282547,  0.11831868,  0.4011917 ,  0.11877072],\n",
       "        [-0.38201782,  0.0789873 , -0.30762225, -0.44128397, -0.2744304 ,\n",
       "          0.40471506, -0.32065666, -0.26569062, -0.2764299 , -0.47018304],\n",
       "        [-0.37332845,  0.03686357, -0.22908258, -0.19455788,  0.4117577 ,\n",
       "          0.30894786, -0.32182807, -0.4337034 ,  0.00898942, -0.36001337],\n",
       "        [ 0.15005821, -0.2021957 ,  0.36487448, -0.38798016, -0.26482314,\n",
       "         -0.35482034, -0.09111455,  0.39179087,  0.4688626 , -0.3664833 ],\n",
       "        [-0.21837732, -0.2350708 ,  0.23566943, -0.40885246, -0.18719181,\n",
       "         -0.04669747,  0.23956633,  0.10171843,  0.03265941, -0.3529426 ],\n",
       "        [ 0.38706124,  0.24345857,  0.47638577,  0.24489474,  0.24673814,\n",
       "          0.32698983,  0.37519568, -0.23546685, -0.15446815, -0.42075527],\n",
       "        [ 0.34753525, -0.24175172, -0.04929298,  0.2741555 ,  0.41842782,\n",
       "          0.23250079,  0.0799377 ,  0.25771916,  0.27007425, -0.4419028 ],\n",
       "        [ 0.2500456 , -0.3067596 , -0.09278169, -0.16397882,  0.41946518,\n",
       "          0.11570817,  0.21292514,  0.12559164,  0.09514165,  0.27991283],\n",
       "        [ 0.03078753, -0.3943327 ,  0.11854285,  0.22290754,  0.07182693,\n",
       "         -0.03225169, -0.33382696, -0.23532563, -0.3184662 ,  0.45393056],\n",
       "        [-0.37877458, -0.03731081,  0.2737435 , -0.08902514, -0.4043663 ,\n",
       "          0.00250712, -0.45816928,  0.11774212,  0.08641976,  0.44138336],\n",
       "        [-0.30986905, -0.14259559, -0.1911653 ,  0.1851936 ,  0.0959152 ,\n",
       "          0.20657533, -0.3574886 , -0.18864936,  0.11213481, -0.324358  ],\n",
       "        [-0.36827722,  0.24827546,  0.0866164 , -0.36882207, -0.16578007,\n",
       "         -0.19783166,  0.44197595, -0.26354715, -0.3459429 ,  0.432216  ]],\n",
       "       dtype=float32)>,\n",
       " <tf.Variable 'dense_6/bias:0' shape=(10,) dtype=float32, numpy=array([0., 0., 0., 0., 0., 0., 0., 0., 0., 0.], dtype=float32)>]"
      ]
     },
     "execution_count": 31,
     "metadata": {
      "tags": []
     },
     "output_type": "execute_result"
    }
   ],
   "source": [
    "model.weights"
   ]
  },
  {
   "cell_type": "code",
   "execution_count": 32,
   "metadata": {
    "colab": {
     "base_uri": "https://localhost:8080/"
    },
    "id": "0rXuEgh2Efgn",
    "outputId": "9f01735d-a736-4e79-a1ca-c34567efa99d"
   },
   "outputs": [
    {
     "name": "stdout",
     "output_type": "stream",
     "text": [
      "Model: \"sequential_2\"\n",
      "_________________________________________________________________\n",
      "Layer (type)                 Output Shape              Param #   \n",
      "=================================================================\n",
      "flatten_2 (Flatten)          (None, 784)               0         \n",
      "_________________________________________________________________\n",
      "dense_4 (Dense)              (None, 16)                12560     \n",
      "_________________________________________________________________\n",
      "dense_5 (Dense)              (None, 16)                272       \n",
      "_________________________________________________________________\n",
      "dense_6 (Dense)              (None, 10)                170       \n",
      "=================================================================\n",
      "Total params: 13,002\n",
      "Trainable params: 13,002\n",
      "Non-trainable params: 0\n",
      "_________________________________________________________________\n"
     ]
    }
   ],
   "source": [
    "model.summary()"
   ]
  },
  {
   "cell_type": "code",
   "execution_count": 33,
   "metadata": {
    "id": "ztuO4_u7Ei8c"
   },
   "outputs": [],
   "source": [
    "#Convolutional and pooling layers¶\n",
    "from tensorflow.keras.models import Sequential\n",
    "from tensorflow.keras.layers import Dense, Flatten, Conv2D, MaxPooling2D"
   ]
  },
  {
   "cell_type": "code",
   "execution_count": 34,
   "metadata": {
    "id": "C2Mm86j4EptF"
   },
   "outputs": [],
   "source": [
    "#Build a convolutional neural network model\n",
    "model=Sequential([\n",
    "    Conv2D(16,(3,3),activation='relu',input_shape=(28,28,1)),\n",
    "    MaxPooling2D(3),\n",
    "    Flatten(),\n",
    "    Dense(10,activation='softmax')\n",
    "    \n",
    "    \n",
    "])\n"
   ]
  },
  {
   "cell_type": "code",
   "execution_count": 35,
   "metadata": {
    "colab": {
     "base_uri": "https://localhost:8080/"
    },
    "id": "gplhFvkwE2Hj",
    "outputId": "15c05c03-e105-4797-d540-ffbf2721447f"
   },
   "outputs": [
    {
     "name": "stdout",
     "output_type": "stream",
     "text": [
      "Model: \"sequential_3\"\n",
      "_________________________________________________________________\n",
      "Layer (type)                 Output Shape              Param #   \n",
      "=================================================================\n",
      "conv2d_1 (Conv2D)            (None, 26, 26, 16)        160       \n",
      "_________________________________________________________________\n",
      "max_pooling2d_1 (MaxPooling2 (None, 8, 8, 16)          0         \n",
      "_________________________________________________________________\n",
      "flatten_3 (Flatten)          (None, 1024)              0         \n",
      "_________________________________________________________________\n",
      "dense_7 (Dense)              (None, 10)                10250     \n",
      "=================================================================\n",
      "Total params: 10,410\n",
      "Trainable params: 10,410\n",
      "Non-trainable params: 0\n",
      "_________________________________________________________________\n"
     ]
    }
   ],
   "source": [
    "model.summary()"
   ]
  },
  {
   "cell_type": "code",
   "execution_count": 36,
   "metadata": {
    "id": "A1XcTqQTE4P-"
   },
   "outputs": [],
   "source": [
    "#The compile method¶\n",
    "import tensorflow as tf"
   ]
  },
  {
   "cell_type": "code",
   "execution_count": 37,
   "metadata": {
    "id": "rUyaxQ1sFBPL"
   },
   "outputs": [],
   "source": [
    "opt=tf.keras.optimizers.Adam(learning_rate=0.005)\n",
    "model.compile(\n",
    "optimizer=opt,\n",
    "loss='sparse_categorical_crossentropy',\n",
    "metrics=['accuracy','mae'])"
   ]
  },
  {
   "cell_type": "code",
   "execution_count": 38,
   "metadata": {
    "colab": {
     "base_uri": "https://localhost:8080/"
    },
    "id": "5ioaRLkqFDV4",
    "outputId": "81c240b7-78c0-4fcd-88ab-c5b0908fbccc"
   },
   "outputs": [
    {
     "name": "stdout",
     "output_type": "stream",
     "text": [
      "sparse_categorical_crossentropy\n",
      "<tf.Variable 'learning_rate:0' shape=() dtype=float32, numpy=0.005>\n",
      "[]\n"
     ]
    }
   ],
   "source": [
    "print(model.loss)\n",
    "print(model.optimizer.lr)\n",
    "print(model.metrics)\n"
   ]
  },
  {
   "cell_type": "code",
   "execution_count": 39,
   "metadata": {
    "id": "gTbVkZK5FFoQ"
   },
   "outputs": [],
   "source": [
    "#The fit method\n",
    "import tensorflow as tf\n",
    "from tensorflow.keras.preprocessing import image\n",
    "import matplotlib.pyplot as plt\n",
    "import numpy as np\n",
    "import pandas as pd"
   ]
  },
  {
   "cell_type": "code",
   "execution_count": 40,
   "metadata": {
    "id": "zgR-ZDHwFLMb"
   },
   "outputs": [],
   "source": [
    "fashion_mnist_data = tf.keras.datasets.fashion_mnist\n",
    "(train_images, train_labels), (test_images, test_labels) = fashion_mnist_data.load_data()"
   ]
  },
  {
   "cell_type": "code",
   "execution_count": 41,
   "metadata": {
    "colab": {
     "base_uri": "https://localhost:8080/"
    },
    "id": "BjqONGzjFNnf",
    "outputId": "52620477-678f-4694-bb85-0d7563ce716c"
   },
   "outputs": [
    {
     "data": {
      "text/plain": [
       "(60000, 28, 28)"
      ]
     },
     "execution_count": 41,
     "metadata": {
      "tags": []
     },
     "output_type": "execute_result"
    }
   ],
   "source": [
    "# Print the shape of the training data\n",
    "\n",
    "train_images.shape"
   ]
  },
  {
   "cell_type": "code",
   "execution_count": 42,
   "metadata": {
    "id": "i7v5CMRmFYpV"
   },
   "outputs": [],
   "source": [
    "# Define the labels\n",
    "\n",
    "labels = [\n",
    "    'T-shirt/top',\n",
    "    'Trouser',\n",
    "    'Pullover',\n",
    "    'Dress',\n",
    "    'Coat',\n",
    "    'Sandal',\n",
    "    'Shirt',\n",
    "    'Sneaker',\n",
    "    'Bag',\n",
    "    'Ankle boot'\n",
    "]"
   ]
  },
  {
   "cell_type": "code",
   "execution_count": 43,
   "metadata": {
    "id": "fcTNIyfCFZao"
   },
   "outputs": [],
   "source": [
    "# Rescale the image values so that they lie in between 0 and 1\n",
    "train_images=train_images/255.\n",
    "test_images=test_images/255."
   ]
  },
  {
   "cell_type": "code",
   "execution_count": 44,
   "metadata": {
    "colab": {
     "base_uri": "https://localhost:8080/",
     "height": 283
    },
    "id": "UIIHa7PVFc29",
    "outputId": "08d53608-eb9e-4a70-ce87-11fbcd98c0d0"
   },
   "outputs": [
    {
     "data": {
      "image/png": "[encoded data removed]",
      "text/plain": [
       "<Figure size 432x288 with 1 Axes>"
      ]
     },
     "metadata": {
      "needs_background": "light",
      "tags": []
     },
     "output_type": "display_data"
    },
    {
     "name": "stdout",
     "output_type": "stream",
     "text": [
      "label: Ankle boot\n"
     ]
    }
   ],
   "source": [
    "# Display one of the images\n",
    "import matplotlib.pyplot as plt\n",
    "i=0\n",
    "img=train_images[i,:,:]\n",
    "plt.imshow(img)\n",
    "plt.show()\n",
    "print(f'label: {labels[train_labels[i]]}')\n"
   ]
  },
  {
   "cell_type": "code",
   "execution_count": 45,
   "metadata": {
    "colab": {
     "base_uri": "https://localhost:8080/"
    },
    "id": "uuj-8t9nFfMA",
    "outputId": "1125f08c-666f-4863-a545-79adb299d676"
   },
   "outputs": [
    {
     "name": "stdout",
     "output_type": "stream",
     "text": [
      "Epoch 1/2\n",
      "235/235 [==============================] - 12s 48ms/step - loss: 0.8422 - accuracy: 0.7096 - mae: 4.4057\n",
      "Epoch 2/2\n",
      "235/235 [==============================] - 11s 48ms/step - loss: 0.3949 - accuracy: 0.8579 - mae: 4.4337\n"
     ]
    }
   ],
   "source": [
    "# Fit the model\n",
    "import numpy as np\n",
    "history=model.fit(train_images[...,np.newaxis],train_labels,epochs=2,batch_size=256)"
   ]
  },
  {
   "cell_type": "code",
   "execution_count": 46,
   "metadata": {
    "colab": {
     "base_uri": "https://localhost:8080/",
     "height": 110
    },
    "id": "RrAaR5lKFj3b",
    "outputId": "18f7d7ef-db21-44fa-a437-0f20cf291091"
   },
   "outputs": [
    {
     "data": {
      "text/html": [
       "<div>\n",
       "<style scoped>\n",
       "    .dataframe tbody tr th:only-of-type {\n",
       "        vertical-align: middle;\n",
       "    }\n",
       "\n",
       "    .dataframe tbody tr th {\n",
       "        vertical-align: top;\n",
       "    }\n",
       "\n",
       "    .dataframe thead th {\n",
       "        text-align: right;\n",
       "    }\n",
       "</style>\n",
       "<table border=\"1\" class=\"dataframe\">\n",
       "  <thead>\n",
       "    <tr style=\"text-align: right;\">\n",
       "      <th></th>\n",
       "      <th>loss</th>\n",
       "      <th>accuracy</th>\n",
       "      <th>mae</th>\n",
       "    </tr>\n",
       "  </thead>\n",
       "  <tbody>\n",
       "    <tr>\n",
       "      <th>0</th>\n",
       "      <td>0.579552</td>\n",
       "      <td>0.794950</td>\n",
       "      <td>4.420001</td>\n",
       "    </tr>\n",
       "    <tr>\n",
       "      <th>1</th>\n",
       "      <td>0.387594</td>\n",
       "      <td>0.862367</td>\n",
       "      <td>4.420000</td>\n",
       "    </tr>\n",
       "  </tbody>\n",
       "</table>\n",
       "</div>"
      ],
      "text/plain": [
       "       loss  accuracy       mae\n",
       "0  0.579552  0.794950  4.420001\n",
       "1  0.387594  0.862367  4.420000"
      ]
     },
     "execution_count": 46,
     "metadata": {
      "tags": []
     },
     "output_type": "execute_result"
    }
   ],
   "source": [
    "# Load the history into a pandas Dataframe\n",
    "\n",
    "import pandas as pd\n",
    "df=pd.DataFrame(history.history)\n",
    "df"
   ]
  },
  {
   "cell_type": "code",
   "execution_count": 47,
   "metadata": {
    "colab": {
     "base_uri": "https://localhost:8080/",
     "height": 313
    },
    "id": "zB5g6efOFnLC",
    "outputId": "0153f195-0b3a-41d6-891c-4c3341631bfd"
   },
   "outputs": [
    {
     "data": {
      "text/plain": [
       "[Text(0, 0.5, 'Loss'), Text(0.5, 0, 'Epochs')]"
      ]
     },
     "execution_count": 47,
     "metadata": {
      "tags": []
     },
     "output_type": "execute_result"
    },
    {
     "data": {
      "image/png": "[encoded data removed]",
      "text/plain": [
       "<Figure size 432x288 with 1 Axes>"
      ]
     },
     "metadata": {
      "needs_background": "light",
      "tags": []
     },
     "output_type": "display_data"
    }
   ],
   "source": [
    "# Make a plot for the loss\n",
    "\n",
    "loss_plot=df.plot(y='loss',title='loss vs epochs',legend=False)\n",
    "loss_plot.set(xlabel='Epochs',ylabel='Loss')"
   ]
  },
  {
   "cell_type": "code",
   "execution_count": 48,
   "metadata": {
    "id": "G8FhLnDeFste"
   },
   "outputs": [],
   "source": [
    "#The evaluate and predict methods¶\n",
    "import matplotlib.pyplot as plt\n",
    "import numpy as np"
   ]
  },
  {
   "cell_type": "code",
   "execution_count": 49,
   "metadata": {
    "colab": {
     "base_uri": "https://localhost:8080/"
    },
    "id": "W6HXQVqYF2Es",
    "outputId": "63bfdd30-d004-4929-dcc6-e08e85a1424e"
   },
   "outputs": [
    {
     "name": "stdout",
     "output_type": "stream",
     "text": [
      "313/313 [==============================] - 1s 4ms/step - loss: 0.3863 - accuracy: 0.8625 - mae: 4.4200\n"
     ]
    }
   ],
   "source": [
    "# Evaluate the model\n",
    "test_loss,test_accuracy,test_mae=model.evaluate(test_images[...,np.newaxis],test_labels)\n"
   ]
  },
  {
   "cell_type": "code",
   "execution_count": 50,
   "metadata": {
    "colab": {
     "base_uri": "https://localhost:8080/",
     "height": 283
    },
    "id": "31ZsqiXnF4-O",
    "outputId": "ea77a73d-c5dd-4d46-8694-30952c6385a6"
   },
   "outputs": [
    {
     "data": {
      "image/png": "[encoded data removed]",
      "text/plain": [
       "<Figure size 432x288 with 1 Axes>"
      ]
     },
     "metadata": {
      "needs_background": "light",
      "tags": []
     },
     "output_type": "display_data"
    },
    {
     "name": "stdout",
     "output_type": "stream",
     "text": [
      "Label: Bag\n"
     ]
    }
   ],
   "source": [
    "#Make predictions from the model\n",
    "# Choose a random test image\n",
    "\n",
    "random_inx = np.random.choice(test_images.shape[0])\n",
    "inx=30\n",
    "\n",
    "test_image = test_images[inx]\n",
    "plt.imshow(test_image)\n",
    "plt.show()\n",
    "print(f\"Label: {labels[test_labels[inx]]}\")"
   ]
  },
  {
   "cell_type": "markdown",
   "metadata": {
    "id": "s7VRi9gZG3Zt"
   },
   "source": [
    "Validation, regularisation and callbacks"
   ]
  },
  {
   "cell_type": "code",
   "execution_count": 51,
   "metadata": {
    "id": "sClx9n0vGHME"
   },
   "outputs": [],
   "source": [
    "import tensorflow as tf"
   ]
  },
  {
   "cell_type": "code",
   "execution_count": 52,
   "metadata": {
    "colab": {
     "base_uri": "https://localhost:8080/"
    },
    "id": "Ew5Ua0EHG7iv",
    "outputId": "c760fca4-9b4a-4458-bc81-08983206a434"
   },
   "outputs": [
    {
     "name": "stdout",
     "output_type": "stream",
     "text": [
      ".. _diabetes_dataset:\n",
      "\n",
      "Diabetes dataset\n",
      "----------------\n",
      "\n",
      "Ten baseline variables, age, sex, body mass index, average blood\n",
      "pressure, and six blood serum measurements were obtained for each of n =\n",
      "442 diabetes patients, as well as the response of interest, a\n",
      "quantitative measure of disease progression one year after baseline.\n",
      "\n",
      "**Data Set Characteristics:**\n",
      "\n",
      "  :Number of Instances: 442\n",
      "\n",
      "  :Number of Attributes: First 10 columns are numeric predictive values\n",
      "\n",
      "  :Target: Column 11 is a quantitative measure of disease progression one year after baseline\n",
      "\n",
      "  :Attribute Information:\n",
      "      - Age\n",
      "      - Sex\n",
      "      - Body mass index\n",
      "      - Average blood pressure\n",
      "      - S1\n",
      "      - S2\n",
      "      - S3\n",
      "      - S4\n",
      "      - S5\n",
      "      - S6\n",
      "\n",
      "Note: Each of these 10 feature variables have been mean centered and scaled by the standard deviation times `n_samples` (i.e. the sum of squares of each column totals 1).\n",
      "\n",
      "Source URL:\n",
      "https://www4.stat.ncsu.edu/~boos/var.select/diabetes.html\n",
      "\n",
      "For more information see:\n",
      "Bradley Efron, Trevor Hastie, Iain Johnstone and Robert Tibshirani (2004) \"Least Angle Regression,\" Annals of Statistics (with discussion), 407-499.\n",
      "(https://web.stanford.edu/~hastie/Papers/LARS/LeastAngle_2002.pdf)\n"
     ]
    }
   ],
   "source": [
    "#Validation sets\n",
    "# Load the diabetes dataset\n",
    "from sklearn.datasets import load_diabetes\n",
    "diabetes_dataset=load_diabetes()\n",
    "print(diabetes_dataset[\"DESCR\"])"
   ]
  },
  {
   "cell_type": "code",
   "execution_count": 53,
   "metadata": {
    "id": "rVVTw-1yHDPX"
   },
   "outputs": [],
   "source": [
    "# Save the input and target variables\n",
    "\n",
    "#print(diabetes_dataset.keys\n",
    "data=diabetes_dataset['data']\n",
    "targets=diabetes_dataset['target']"
   ]
  },
  {
   "cell_type": "code",
   "execution_count": 54,
   "metadata": {
    "colab": {
     "base_uri": "https://localhost:8080/"
    },
    "id": "npl1EFSgHPuS",
    "outputId": "1cda149e-c1c2-444d-f2bc-55dee4479c59"
   },
   "outputs": [
    {
     "data": {
      "text/plain": [
       "array([151.,  75., 141., 206., 135.,  97., 138.,  63., 110., 310., 101.,\n",
       "        69., 179., 185., 118., 171., 166., 144.,  97., 168.,  68.,  49.,\n",
       "        68., 245., 184., 202., 137.,  85., 131., 283., 129.,  59., 341.,\n",
       "        87.,  65., 102., 265., 276., 252.,  90., 100.,  55.,  61.,  92.,\n",
       "       259.,  53., 190., 142.,  75., 142., 155., 225.,  59., 104., 182.,\n",
       "       128.,  52.,  37., 170., 170.,  61., 144.,  52., 128.,  71., 163.,\n",
       "       150.,  97., 160., 178.,  48., 270., 202., 111.,  85.,  42., 170.,\n",
       "       200., 252., 113., 143.,  51.,  52., 210.,  65., 141.,  55., 134.,\n",
       "        42., 111.,  98., 164.,  48.,  96.,  90., 162., 150., 279.,  92.,\n",
       "        83., 128., 102., 302., 198.,  95.,  53., 134., 144., 232.,  81.,\n",
       "       104.,  59., 246., 297., 258., 229., 275., 281., 179., 200., 200.,\n",
       "       173., 180.,  84., 121., 161.,  99., 109., 115., 268., 274., 158.,\n",
       "       107.,  83., 103., 272.,  85., 280., 336., 281., 118., 317., 235.,\n",
       "        60., 174., 259., 178., 128.,  96., 126., 288.,  88., 292.,  71.,\n",
       "       197., 186.,  25.,  84.,  96., 195.,  53., 217., 172., 131., 214.,\n",
       "        59.,  70., 220., 268., 152.,  47.,  74., 295., 101., 151., 127.,\n",
       "       237., 225.,  81., 151., 107.,  64., 138., 185., 265., 101., 137.,\n",
       "       143., 141.,  79., 292., 178.,  91., 116.,  86., 122.,  72., 129.,\n",
       "       142.,  90., 158.,  39., 196., 222., 277.,  99., 196., 202., 155.,\n",
       "        77., 191.,  70.,  73.,  49.,  65., 263., 248., 296., 214., 185.,\n",
       "        78.,  93., 252., 150.,  77., 208.,  77., 108., 160.,  53., 220.,\n",
       "       154., 259.,  90., 246., 124.,  67.,  72., 257., 262., 275., 177.,\n",
       "        71.,  47., 187., 125.,  78.,  51., 258., 215., 303., 243.,  91.,\n",
       "       150., 310., 153., 346.,  63.,  89.,  50.,  39., 103., 308., 116.,\n",
       "       145.,  74.,  45., 115., 264.,  87., 202., 127., 182., 241.,  66.,\n",
       "        94., 283.,  64., 102., 200., 265.,  94., 230., 181., 156., 233.,\n",
       "        60., 219.,  80.,  68., 332., 248.,  84., 200.,  55.,  85.,  89.,\n",
       "        31., 129.,  83., 275.,  65., 198., 236., 253., 124.,  44., 172.,\n",
       "       114., 142., 109., 180., 144., 163., 147.,  97., 220., 190., 109.,\n",
       "       191., 122., 230., 242., 248., 249., 192., 131., 237.,  78., 135.,\n",
       "       244., 199., 270., 164.,  72.,  96., 306.,  91., 214.,  95., 216.,\n",
       "       263., 178., 113., 200., 139., 139.,  88., 148.,  88., 243.,  71.,\n",
       "        77., 109., 272.,  60.,  54., 221.,  90., 311., 281., 182., 321.,\n",
       "        58., 262., 206., 233., 242., 123., 167.,  63., 197.,  71., 168.,\n",
       "       140., 217., 121., 235., 245.,  40.,  52., 104., 132.,  88.,  69.,\n",
       "       219.,  72., 201., 110.,  51., 277.,  63., 118.,  69., 273., 258.,\n",
       "        43., 198., 242., 232., 175.,  93., 168., 275., 293., 281.,  72.,\n",
       "       140., 189., 181., 209., 136., 261., 113., 131., 174., 257.,  55.,\n",
       "        84.,  42., 146., 212., 233.,  91., 111., 152., 120.,  67., 310.,\n",
       "        94., 183.,  66., 173.,  72.,  49.,  64.,  48., 178., 104., 132.,\n",
       "       220.,  57.])"
      ]
     },
     "execution_count": 54,
     "metadata": {
      "tags": []
     },
     "output_type": "execute_result"
    }
   ],
   "source": [
    "targets"
   ]
  },
  {
   "cell_type": "code",
   "execution_count": 55,
   "metadata": {
    "colab": {
     "base_uri": "https://localhost:8080/"
    },
    "id": "Hat0RMv1HSRV",
    "outputId": "b8486e4b-7a52-4b34-96eb-d6cd05805048"
   },
   "outputs": [
    {
     "data": {
      "text/plain": [
       "array([-1.47194752e-02, -1.00165882e+00, -1.44579915e-01,  6.99512942e-01,\n",
       "       -2.22496178e-01, -7.15965848e-01, -1.83538046e-01, -1.15749134e+00,\n",
       "       -5.47147277e-01,  2.05006151e+00, -6.64021672e-01, -1.07957508e+00,\n",
       "        3.48889755e-01,  4.26806019e-01, -4.43258925e-01,  2.45001404e-01,\n",
       "        1.80071184e-01, -1.05621783e-01, -7.15965848e-01,  2.06043272e-01,\n",
       "       -1.09256112e+00, -1.33929596e+00, -1.09256112e+00,  1.20596866e+00,\n",
       "        4.13819975e-01,  6.47568766e-01, -1.96524090e-01, -8.71798376e-01,\n",
       "       -2.74440354e-01,  1.69943833e+00, -3.00412442e-01, -1.20943552e+00,\n",
       "        2.45262887e+00, -8.45826288e-01, -1.13151925e+00, -6.51035629e-01,\n",
       "        1.46568953e+00,  1.60853602e+00,  1.29687096e+00, -8.06868156e-01,\n",
       "       -6.77007716e-01, -1.26137969e+00, -1.18346343e+00, -7.80896068e-01,\n",
       "        1.38777327e+00, -1.28735178e+00,  4.91736239e-01, -1.31593871e-01,\n",
       "       -1.00165882e+00, -1.31593871e-01,  3.72247006e-02,  9.46247777e-01,\n",
       "       -1.20943552e+00, -6.25063541e-01,  3.87847887e-01, -3.13398486e-01,\n",
       "       -1.30033783e+00, -1.49512849e+00,  2.32015360e-01,  2.32015360e-01,\n",
       "       -1.18346343e+00, -1.05621783e-01, -1.30033783e+00, -3.13398486e-01,\n",
       "       -1.05360299e+00,  1.41113052e-01, -2.77055191e-02, -7.15965848e-01,\n",
       "        1.02154920e-01,  3.35903711e-01, -1.35228200e+00,  1.53061975e+00,\n",
       "        6.47568766e-01, -5.34161233e-01, -8.71798376e-01, -1.43019827e+00,\n",
       "        2.32015360e-01,  6.21596678e-01,  1.29687096e+00, -5.08189145e-01,\n",
       "       -1.18607827e-01, -1.31332387e+00, -1.30033783e+00,  7.51457118e-01,\n",
       "       -1.13151925e+00, -1.44579915e-01, -1.26137969e+00, -2.35482222e-01,\n",
       "       -1.43019827e+00, -5.34161233e-01, -7.02979804e-01,  1.54099096e-01,\n",
       "       -1.35228200e+00, -7.28951892e-01, -8.06868156e-01,  1.28127008e-01,\n",
       "       -2.77055191e-02,  1.64749415e+00, -7.80896068e-01, -8.97770464e-01,\n",
       "       -3.13398486e-01, -6.51035629e-01,  1.94617316e+00,  5.95624590e-01,\n",
       "       -7.41937936e-01, -1.28735178e+00, -2.35482222e-01, -1.05621783e-01,\n",
       "        1.03715008e+00, -9.23742551e-01, -6.25063541e-01, -1.20943552e+00,\n",
       "        1.21895470e+00,  1.88124294e+00,  1.37478723e+00,  9.98191953e-01,\n",
       "        1.59554997e+00,  1.67346624e+00,  3.48889755e-01,  6.21596678e-01,\n",
       "        6.21596678e-01,  2.70973492e-01,  3.61875799e-01, -8.84784420e-01,\n",
       "       -4.04300794e-01,  1.15140964e-01, -6.89993760e-01, -5.60133321e-01,\n",
       "       -4.82217057e-01,  1.50464767e+00,  1.58256393e+00,  7.61828325e-02,\n",
       "       -5.86105409e-01, -8.97770464e-01, -6.38049585e-01,  1.55659184e+00,\n",
       "       -8.71798376e-01,  1.66048019e+00,  2.38769865e+00,  1.67346624e+00,\n",
       "       -4.43258925e-01,  2.14096382e+00,  1.07610822e+00, -1.19644947e+00,\n",
       "        2.83959536e-01,  1.38777327e+00,  3.35903711e-01, -3.13398486e-01,\n",
       "       -7.28951892e-01, -3.39370574e-01,  1.76436855e+00, -8.32840244e-01,\n",
       "        1.81631272e+00, -1.05360299e+00,  5.82638546e-01,  4.39792063e-01,\n",
       "       -1.65096101e+00, -8.84784420e-01, -7.28951892e-01,  5.56666458e-01,\n",
       "       -1.28735178e+00,  8.42359425e-01,  2.57987448e-01, -2.74440354e-01,\n",
       "        8.03401293e-01, -1.20943552e+00, -1.06658903e+00,  8.81317557e-01,\n",
       "        1.50464767e+00, -1.73343121e-03, -1.36526805e+00, -1.01464486e+00,\n",
       "        1.85527085e+00, -6.64021672e-01, -1.47194752e-02, -3.26384530e-01,\n",
       "        1.10208030e+00,  9.46247777e-01, -9.23742551e-01, -1.47194752e-02,\n",
       "       -5.86105409e-01, -1.14450530e+00, -1.83538046e-01,  4.26806019e-01,\n",
       "        1.46568953e+00, -6.64021672e-01, -1.96524090e-01, -1.18607827e-01,\n",
       "       -1.44579915e-01, -9.49714639e-01,  1.81631272e+00,  3.35903711e-01,\n",
       "       -7.93882112e-01, -4.69231013e-01, -8.58812332e-01, -3.91314750e-01,\n",
       "       -1.04061695e+00, -3.00412442e-01, -1.31593871e-01, -8.06868156e-01,\n",
       "        7.61828325e-02, -1.46915640e+00,  5.69652502e-01,  9.07289645e-01,\n",
       "        1.62152206e+00, -6.89993760e-01,  5.69652502e-01,  6.47568766e-01,\n",
       "        3.72247006e-02, -9.75686727e-01,  5.04722283e-01, -1.06658903e+00,\n",
       "       -1.02763090e+00, -1.33929596e+00, -1.13151925e+00,  1.43971745e+00,\n",
       "        1.24492679e+00,  1.86825690e+00,  8.03401293e-01,  4.26806019e-01,\n",
       "       -9.62700683e-01, -7.67910024e-01,  1.29687096e+00, -2.77055191e-02,\n",
       "       -9.75686727e-01,  7.25485030e-01, -9.75686727e-01, -5.73119365e-01,\n",
       "        1.02154920e-01, -1.28735178e+00,  8.81317557e-01,  2.42386567e-02,\n",
       "        1.38777327e+00, -8.06868156e-01,  1.21895470e+00, -3.65342662e-01,\n",
       "       -1.10554717e+00, -1.04061695e+00,  1.36180118e+00,  1.42673140e+00,\n",
       "        1.59554997e+00,  3.22917667e-01, -1.05360299e+00, -1.36526805e+00,\n",
       "        4.52778107e-01, -3.52356618e-01, -9.62700683e-01, -1.31332387e+00,\n",
       "        1.37478723e+00,  8.16387337e-01,  1.95915920e+00,  1.17999657e+00,\n",
       "       -7.93882112e-01, -2.77055191e-02,  2.05006151e+00,  1.12526127e-02,\n",
       "        2.51755909e+00, -1.15749134e+00, -8.19854200e-01, -1.32630991e+00,\n",
       "       -1.46915640e+00, -6.38049585e-01,  2.02408942e+00, -4.69231013e-01,\n",
       "       -9.26357388e-02, -1.01464486e+00, -1.39124013e+00, -4.82217057e-01,\n",
       "        1.45270349e+00, -8.45826288e-01,  6.47568766e-01, -3.26384530e-01,\n",
       "        3.87847887e-01,  1.15402448e+00, -1.11853321e+00, -7.54923980e-01,\n",
       "        1.69943833e+00, -1.14450530e+00, -6.51035629e-01,  6.21596678e-01,\n",
       "        1.46568953e+00, -7.54923980e-01,  1.01117800e+00,  3.74861843e-01,\n",
       "        5.02107446e-02,  1.05013613e+00, -1.19644947e+00,  8.68331513e-01,\n",
       "       -9.36728595e-01, -1.09256112e+00,  2.33575448e+00,  1.24492679e+00,\n",
       "       -8.84784420e-01,  6.21596678e-01, -1.26137969e+00, -8.71798376e-01,\n",
       "       -8.19854200e-01, -1.57304475e+00, -3.00412442e-01, -8.97770464e-01,\n",
       "        1.59554997e+00, -1.13151925e+00,  5.95624590e-01,  1.08909426e+00,\n",
       "        1.30985701e+00, -3.65342662e-01, -1.40422618e+00,  2.57987448e-01,\n",
       "       -4.95203101e-01, -1.31593871e-01, -5.60133321e-01,  3.61875799e-01,\n",
       "       -1.05621783e-01,  1.41113052e-01, -6.66636509e-02, -7.15965848e-01,\n",
       "        8.81317557e-01,  4.91736239e-01, -5.60133321e-01,  5.04722283e-01,\n",
       "       -3.91314750e-01,  1.01117800e+00,  1.16701052e+00,  1.24492679e+00,\n",
       "        1.25791283e+00,  5.17708327e-01, -2.74440354e-01,  1.10208030e+00,\n",
       "       -9.62700683e-01, -2.22496178e-01,  1.19298261e+00,  6.08610634e-01,\n",
       "        1.53061975e+00,  1.54099096e-01, -1.04061695e+00, -7.28951892e-01,\n",
       "        1.99811734e+00, -7.93882112e-01,  8.03401293e-01, -7.41937936e-01,\n",
       "        8.29373381e-01,  1.43971745e+00,  3.35903711e-01, -5.08189145e-01,\n",
       "        6.21596678e-01, -1.70552003e-01, -1.70552003e-01, -8.32840244e-01,\n",
       "       -5.36776070e-02, -8.32840244e-01,  1.17999657e+00, -1.05360299e+00,\n",
       "       -9.75686727e-01, -5.60133321e-01,  1.55659184e+00, -1.19644947e+00,\n",
       "       -1.27436574e+00,  8.94303601e-01, -8.06868156e-01,  2.06304756e+00,\n",
       "        1.67346624e+00,  3.87847887e-01,  2.19290800e+00, -1.22242156e+00,\n",
       "        1.42673140e+00,  6.99512942e-01,  1.05013613e+00,  1.16701052e+00,\n",
       "       -3.78328706e-01,  1.93057228e-01, -1.15749134e+00,  5.82638546e-01,\n",
       "       -1.05360299e+00,  2.06043272e-01, -1.57565959e-01,  8.42359425e-01,\n",
       "       -4.04300794e-01,  1.07610822e+00,  1.20596866e+00, -1.45617035e+00,\n",
       "       -1.30033783e+00, -6.25063541e-01, -2.61454310e-01, -8.32840244e-01,\n",
       "       -1.07957508e+00,  8.68331513e-01, -1.04061695e+00,  6.34582722e-01,\n",
       "       -5.47147277e-01, -1.31332387e+00,  1.62152206e+00, -1.15749134e+00,\n",
       "       -4.43258925e-01, -1.07957508e+00,  1.56957789e+00,  1.37478723e+00,\n",
       "       -1.41721222e+00,  5.95624590e-01,  1.16701052e+00,  1.03715008e+00,\n",
       "        2.96945580e-01, -7.67910024e-01,  2.06043272e-01,  1.59554997e+00,\n",
       "        1.82929877e+00,  1.67346624e+00, -1.04061695e+00, -1.57565959e-01,\n",
       "        4.78750195e-01,  3.74861843e-01,  7.38471074e-01, -2.09510134e-01,\n",
       "        1.41374536e+00, -5.08189145e-01, -2.74440354e-01,  2.83959536e-01,\n",
       "        1.36180118e+00, -1.26137969e+00, -8.84784420e-01, -1.43019827e+00,\n",
       "       -7.96496949e-02,  7.77429206e-01,  1.05013613e+00, -7.93882112e-01,\n",
       "       -5.34161233e-01, -1.73343121e-03, -4.17286837e-01, -1.10554717e+00,\n",
       "        2.05006151e+00, -7.54923980e-01,  4.00833931e-01, -1.11853321e+00,\n",
       "        2.70973492e-01, -1.04061695e+00, -1.33929596e+00, -1.14450530e+00,\n",
       "       -1.35228200e+00,  3.35903711e-01, -6.25063541e-01, -2.61454310e-01,\n",
       "        8.81317557e-01, -1.23540761e+00])"
      ]
     },
     "execution_count": 55,
     "metadata": {
      "tags": []
     },
     "output_type": "execute_result"
    }
   ],
   "source": [
    "# Normalise the target data (this will make clearer training curves)\n",
    "\n",
    "targets=(targets-targets.mean(axis=0))/targets.std()\n",
    "targets"
   ]
  },
  {
   "cell_type": "code",
   "execution_count": 56,
   "metadata": {
    "colab": {
     "base_uri": "https://localhost:8080/"
    },
    "id": "rJNzIeHbHc9H",
    "outputId": "5b6db367-4021-4c59-8e95-b2f89f0f90c0"
   },
   "outputs": [
    {
     "name": "stdout",
     "output_type": "stream",
     "text": [
      "(397, 10)\n",
      "(45, 10)\n",
      "(397,)\n",
      "(45,)\n"
     ]
    }
   ],
   "source": [
    "# Split the data into train and test sets\n",
    "from sklearn.model_selection import train_test_split\n",
    "train_data,test_data,train_targets,test_targets=train_test_split(data,targets,test_size=0.1)\n",
    "print(train_data.shape)\n",
    "print(test_data.shape)\n",
    "print(train_targets.shape)\n",
    "print(test_targets.shape)\n",
    "\n"
   ]
  },
  {
   "cell_type": "code",
   "execution_count": null,
   "metadata": {
    "id": "x8W11Mq0HhOm"
   },
   "outputs": [],
   "source": []
  },
  {
   "cell_type": "markdown",
   "metadata": {
    "id": "yXgNS621IjkL"
   },
   "source": [
    "Train a feedforward neural network model"
   ]
  },
  {
   "cell_type": "code",
   "execution_count": 57,
   "metadata": {
    "id": "RcCqgCKzIkZA"
   },
   "outputs": [],
   "source": [
    "# Build the model\n",
    "from tensorflow.keras.models import Sequential\n",
    "from tensorflow.keras.layers import Dense\n",
    "def get_model():\n",
    "    model=Sequential([\n",
    "        Dense(128,activation='relu',input_shape=(train_data.shape[1],)),\n",
    "        Dense(128,activation='relu'),\n",
    "        Dense(128,activation='relu'),\n",
    "        Dense(128,activation='relu'),\n",
    "        Dense(128,activation='relu'),\n",
    "        Dense(128,activation='relu'),\n",
    "        Dense(1)\n",
    "        \n",
    "        \n",
    "    ])\n",
    "    return model\n",
    "model=get_model()"
   ]
  },
  {
   "cell_type": "code",
   "execution_count": 58,
   "metadata": {
    "colab": {
     "base_uri": "https://localhost:8080/"
    },
    "id": "Zf8vogJwItj1",
    "outputId": "cb1b8f77-7cdb-4596-beff-e43768d91683"
   },
   "outputs": [
    {
     "name": "stdout",
     "output_type": "stream",
     "text": [
      "Model: \"sequential_4\"\n",
      "_________________________________________________________________\n",
      "Layer (type)                 Output Shape              Param #   \n",
      "=================================================================\n",
      "dense_8 (Dense)              (None, 128)               1408      \n",
      "_________________________________________________________________\n",
      "dense_9 (Dense)              (None, 128)               16512     \n",
      "_________________________________________________________________\n",
      "dense_10 (Dense)             (None, 128)               16512     \n",
      "_________________________________________________________________\n",
      "dense_11 (Dense)             (None, 128)               16512     \n",
      "_________________________________________________________________\n",
      "dense_12 (Dense)             (None, 128)               16512     \n",
      "_________________________________________________________________\n",
      "dense_13 (Dense)             (None, 128)               16512     \n",
      "_________________________________________________________________\n",
      "dense_14 (Dense)             (None, 1)                 129       \n",
      "=================================================================\n",
      "Total params: 84,097\n",
      "Trainable params: 84,097\n",
      "Non-trainable params: 0\n",
      "_________________________________________________________________\n"
     ]
    }
   ],
   "source": [
    "# Print the model summary\n",
    "\n",
    "model.summary()"
   ]
  },
  {
   "cell_type": "code",
   "execution_count": 59,
   "metadata": {
    "id": "AQvUL9-uIzZo"
   },
   "outputs": [],
   "source": [
    "# Compile the model\n",
    "model.compile(optimizer='adam',loss='mse',metrics=['mae'])\n"
   ]
  },
  {
   "cell_type": "code",
   "execution_count": 60,
   "metadata": {
    "id": "xaVyYnTCI3O5"
   },
   "outputs": [],
   "source": [
    "# Train the model, with some of the data reserved for validation\n",
    "history=model.fit(train_data,train_targets,epochs=100,validation_split=0.15,batch_size=64,verbose=False)"
   ]
  },
  {
   "cell_type": "code",
   "execution_count": 61,
   "metadata": {
    "colab": {
     "base_uri": "https://localhost:8080/"
    },
    "id": "gCds4U0nI6RB",
    "outputId": "5f7db7c7-cba2-4d9f-cef9-7528745b0729"
   },
   "outputs": [
    {
     "name": "stdout",
     "output_type": "stream",
     "text": [
      "2/2 - 0s - loss: 0.8060 - mae: 0.7225\n"
     ]
    },
    {
     "data": {
      "text/plain": [
       "[0.8059549331665039, 0.7225022315979004]"
      ]
     },
     "execution_count": 61,
     "metadata": {
      "tags": []
     },
     "output_type": "execute_result"
    }
   ],
   "source": [
    "# Evaluate the model on the test set\n",
    "model.evaluate(test_data,test_targets,verbose=2)"
   ]
  },
  {
   "cell_type": "markdown",
   "metadata": {
    "id": "YuAdm2YlJEaM"
   },
   "source": [
    "Plot the learning curves"
   ]
  },
  {
   "cell_type": "code",
   "execution_count": 62,
   "metadata": {
    "id": "cST1ShzKI859"
   },
   "outputs": [],
   "source": [
    "import matplotlib.pyplot as plt\n",
    "%matplotlib inline"
   ]
  },
  {
   "cell_type": "code",
   "execution_count": 63,
   "metadata": {
    "colab": {
     "base_uri": "https://localhost:8080/",
     "height": 295
    },
    "id": "3pKHE4V5JIm5",
    "outputId": "b0a48d6b-2360-4449-9328-b7d6479059bf"
   },
   "outputs": [
    {
     "data": {
      "image/png": "[encoded data removed]",
      "text/plain": [
       "<Figure size 432x288 with 1 Axes>"
      ]
     },
     "metadata": {
      "needs_background": "light",
      "tags": []
     },
     "output_type": "display_data"
    }
   ],
   "source": [
    "# Plot the training and validation loss\n",
    "\n",
    "plt.plot(history.history['loss'])\n",
    "plt.plot(history.history['val_loss'])\n",
    "plt.title('Loss vs. epochs')\n",
    "plt.ylabel('Loss')\n",
    "plt.xlabel('Epoch')\n",
    "plt.legend(['Training', 'Validation'], loc='upper right')\n",
    "plt.show()"
   ]
  },
  {
   "cell_type": "markdown",
   "metadata": {
    "id": "XTMHdV6eJPVj"
   },
   "source": [
    "Model regularisation\n",
    "Adding regularisation with weight decay and dropout"
   ]
  },
  {
   "cell_type": "code",
   "execution_count": 64,
   "metadata": {
    "id": "O9IlauPxJQCK"
   },
   "outputs": [],
   "source": [
    "from tensorflow.keras.layers import Dropout\n",
    "from tensorflow.keras import regularizers"
   ]
  },
  {
   "cell_type": "code",
   "execution_count": 65,
   "metadata": {
    "id": "vGi5cVOsJTta"
   },
   "outputs": [],
   "source": [
    "def get_regularised_model(wd, rate):\n",
    "    model = Sequential([\n",
    "        Dense(128,kernel_regularizer=regularizers.l2(wd) ,activation=\"relu\", input_shape=(train_data.shape[1],)),\n",
    "        Dropout(rate),\n",
    "        Dense(128,kernel_regularizer=regularizers.l2(wd), activation=\"relu\"),\n",
    "        Dropout(rate),\n",
    "        Dense(128,kernel_regularizer=regularizers.l2(wd), activation=\"relu\"),\n",
    "        Dropout(rate),\n",
    "        Dense(128,kernel_regularizer=regularizers.l2(wd), activation=\"relu\"),\n",
    "        Dropout(rate),\n",
    "        Dense(128,kernel_regularizer=regularizers.l2(wd), activation=\"relu\"),\n",
    "        Dropout(rate),\n",
    "        Dense(128,kernel_regularizer=regularizers.l2(wd), activation=\"relu\"),\n",
    "        Dropout(rate),\n",
    "        Dense(1)\n",
    "    ])\n",
    "    return model"
   ]
  },
  {
   "cell_type": "code",
   "execution_count": 66,
   "metadata": {
    "id": "j21R-3PBJWfc"
   },
   "outputs": [],
   "source": [
    "model=get_regularised_model(1e-5,0.3)"
   ]
  },
  {
   "cell_type": "code",
   "execution_count": 67,
   "metadata": {
    "id": "tJBRhu4tJage"
   },
   "outputs": [],
   "source": [
    "# Re-build the model with weight decay and dropout layers\n",
    "\n",
    "model=get_regularised_model(1e-5,0.3)"
   ]
  },
  {
   "cell_type": "code",
   "execution_count": 68,
   "metadata": {
    "id": "GS7Q7GeDJe1H"
   },
   "outputs": [],
   "source": [
    "# Compile the model\n",
    "\n",
    "model.compile(optimizer='adam',loss='mse',metrics=['mae'])"
   ]
  },
  {
   "cell_type": "code",
   "execution_count": 69,
   "metadata": {
    "colab": {
     "base_uri": "https://localhost:8080/"
    },
    "id": "o2i8J5IoJhmC",
    "outputId": "b14bf7a4-de20-40f6-df48-0c678d8cd597"
   },
   "outputs": [
    {
     "data": {
      "text/plain": [
       "<tensorflow.python.keras.callbacks.History at 0x7f5a251ef3c8>"
      ]
     },
     "execution_count": 69,
     "metadata": {
      "tags": []
     },
     "output_type": "execute_result"
    }
   ],
   "source": [
    "# Train the model, with some of the data reserved for validation\n",
    "\n",
    "model.fit(train_data,train_targets,epochs=100,validation_split=0.15,batch_size=64,verbose=False)"
   ]
  },
  {
   "cell_type": "code",
   "execution_count": 70,
   "metadata": {
    "colab": {
     "base_uri": "https://localhost:8080/"
    },
    "id": "DBF2Q6K-Jkj8",
    "outputId": "c3d22e9b-2339-46b5-90a1-e296ff2d4ff9"
   },
   "outputs": [
    {
     "name": "stdout",
     "output_type": "stream",
     "text": [
      "2/2 - 0s - loss: 0.6896 - mae: 0.6780\n"
     ]
    },
    {
     "data": {
      "text/plain": [
       "[0.6896300315856934, 0.6780229210853577]"
      ]
     },
     "execution_count": 70,
     "metadata": {
      "tags": []
     },
     "output_type": "execute_result"
    }
   ],
   "source": [
    "# Evaluate the model on the test set\n",
    "\n",
    "model.evaluate(test_data,test_targets,verbose=2)"
   ]
  },
  {
   "cell_type": "markdown",
   "metadata": {
    "id": "ywF8JiyrJqdf"
   },
   "source": [
    "#### Plot the learning curves"
   ]
  },
  {
   "cell_type": "code",
   "execution_count": 71,
   "metadata": {
    "colab": {
     "base_uri": "https://localhost:8080/",
     "height": 295
    },
    "id": "QHFTx2DiJrKB",
    "outputId": "0f841b5e-d80e-4ac8-8242-fa56b3b726d0"
   },
   "outputs": [
    {
     "data": {
      "image/png": "[encoded data removed]",
      "text/plain": [
       "<Figure size 432x288 with 1 Axes>"
      ]
     },
     "metadata": {
      "needs_background": "light",
      "tags": []
     },
     "output_type": "display_data"
    }
   ],
   "source": [
    "# Plot the training and validation loss\n",
    "\n",
    "import matplotlib.pyplot as plt\n",
    "\n",
    "plt.plot(history.history['loss'])\n",
    "plt.plot(history.history['val_loss'])\n",
    "plt.title('Loss vs. epochs')\n",
    "plt.ylabel('Loss')\n",
    "plt.xlabel('Epoch')\n",
    "plt.legend(['Training', 'Validation'], loc='upper right')\n",
    "plt.show()"
   ]
  },
  {
   "cell_type": "markdown",
   "metadata": {
    "id": "XBHwD-2uJx1b"
   },
   "source": [
    "Introduction to callbacks\n",
    "Example training callback\n"
   ]
  },
  {
   "cell_type": "code",
   "execution_count": 72,
   "metadata": {
    "id": "KTZqYFYsJy0L"
   },
   "outputs": [],
   "source": [
    "# Write a custom callback\n",
    "\n",
    "from tensorflow.keras.callbacks import Callback\n",
    "\n",
    "class PredictingCallback(Callback):\n",
    "    def on_predict_begin(self,logs=None):\n",
    "        print(\"Start Pradicting.....\")\n",
    "   \n",
    "    def on_predict_batch_begin(self,batch,logs=None):\n",
    "        print(f\"Predicting: Starting Batch {batch}\")\n",
    "    def on_predict_batch_end(self,batch,logs=None):\n",
    "        print(f\"Predicting: Ending Batch {batch}\")\n",
    "   \n",
    "    def on_predict_end(self,logs=None):\n",
    "        print(\"Finished Predicting\")\n",
    "        "
   ]
  },
  {
   "cell_type": "code",
   "execution_count": 73,
   "metadata": {
    "id": "k4VF2FJcJ11K"
   },
   "outputs": [],
   "source": [
    "# Re-build the model\n",
    "\n",
    "model=get_regularised_model(1e-5,0.3)"
   ]
  },
  {
   "cell_type": "code",
   "execution_count": 74,
   "metadata": {
    "id": "x0AnZ_biJ45e"
   },
   "outputs": [],
   "source": [
    "# Compile the model\n",
    "\n",
    "model.compile(optimizer='adam',loss='mse')"
   ]
  },
  {
   "cell_type": "code",
   "execution_count": 75,
   "metadata": {
    "colab": {
     "base_uri": "https://localhost:8080/"
    },
    "id": "sIuzVruhJ7bX",
    "outputId": "6d1809f9-1b81-452a-9ff7-a1808e253c85"
   },
   "outputs": [
    {
     "data": {
      "text/plain": [
       "<tensorflow.python.keras.callbacks.History at 0x7f5a25165cc0>"
      ]
     },
     "execution_count": 75,
     "metadata": {
      "tags": []
     },
     "output_type": "execute_result"
    }
   ],
   "source": [
    "##Train the model with the callback\n",
    "# Train the model, with some of the data reserved for validation\n",
    "\n",
    "model.fit(train_data,train_targets,epochs=3,batch_size=128,verbose=False,callbacks=[PredictingCallback()])"
   ]
  },
  {
   "cell_type": "code",
   "execution_count": 76,
   "metadata": {
    "colab": {
     "base_uri": "https://localhost:8080/"
    },
    "id": "8PIgdyF0KCs1",
    "outputId": "484875b6-1341-49b1-e56d-805b36ce18d3"
   },
   "outputs": [
    {
     "name": "stdout",
     "output_type": "stream",
     "text": [
      "Start Pradicting.....\n",
      "Predicting: Starting Batch 0\n",
      "Predicting: Ending Batch 0\n",
      "Predicting: Starting Batch 1\n",
      "Predicting: Ending Batch 1\n",
      "Finished Predicting\n"
     ]
    },
    {
     "data": {
      "text/plain": [
       "array([[ 0.00195712],\n",
       "       [ 0.030765  ],\n",
       "       [-0.0443019 ],\n",
       "       [-0.03646922],\n",
       "       [-0.05469568],\n",
       "       [ 0.00960049],\n",
       "       [-0.05512708],\n",
       "       [-0.00087714],\n",
       "       [-0.05148137],\n",
       "       [ 0.0125849 ],\n",
       "       [-0.01926276],\n",
       "       [-0.05074828],\n",
       "       [ 0.02146933],\n",
       "       [-0.01169159],\n",
       "       [-0.05645872],\n",
       "       [ 0.00120678],\n",
       "       [-0.04645892],\n",
       "       [-0.03173922],\n",
       "       [-0.00488474],\n",
       "       [ 0.01373011],\n",
       "       [-0.00830504],\n",
       "       [ 0.01162826],\n",
       "       [-0.04176376],\n",
       "       [-0.02425504],\n",
       "       [-0.03947441],\n",
       "       [-0.03983622],\n",
       "       [ 0.01125442],\n",
       "       [-0.02918623],\n",
       "       [-0.00673134],\n",
       "       [-0.01195853],\n",
       "       [-0.02776376],\n",
       "       [-0.00748042],\n",
       "       [-0.05202219],\n",
       "       [ 0.00289671],\n",
       "       [-0.00276991],\n",
       "       [-0.03416922],\n",
       "       [-0.04142829],\n",
       "       [-0.04137549],\n",
       "       [-0.01777619],\n",
       "       [ 0.01517672],\n",
       "       [ 0.02333865],\n",
       "       [-0.04722705],\n",
       "       [ 0.04309051],\n",
       "       [-0.02682312],\n",
       "       [ 0.0006057 ]], dtype=float32)"
      ]
     },
     "execution_count": 76,
     "metadata": {
      "tags": []
     },
     "output_type": "execute_result"
    }
   ],
   "source": [
    "# Make predictions with the model\n",
    "\n",
    "model.predict(test_data,verbose=False,callbacks=[PredictingCallback()])"
   ]
  },
  {
   "cell_type": "markdown",
   "metadata": {
    "id": "AKXFUPccKLIX"
   },
   "source": [
    "Early stopping / patience\n"
   ]
  },
  {
   "cell_type": "code",
   "execution_count": 77,
   "metadata": {
    "id": "o5rRNkIBKGGA"
   },
   "outputs": [],
   "source": [
    "# Re-train the unregularised model\n",
    "\n",
    "unregularised_model=get_model()\n",
    "unregularised_model.compile(optimizer='adam',loss='mse')\n",
    "unreg_history=unregularised_model.fit(train_data,train_targets,validation_split=0.15,batch_size=64,epochs=100,verbose=False,callbacks=[tf.keras.callbacks.EarlyStopping(patience=2)])\n"
   ]
  },
  {
   "cell_type": "code",
   "execution_count": 78,
   "metadata": {
    "colab": {
     "base_uri": "https://localhost:8080/"
    },
    "id": "HhtLURFVKPcL",
    "outputId": "e7bc3567-22e3-4dac-fe6d-25b9939fbcb4"
   },
   "outputs": [
    {
     "name": "stdout",
     "output_type": "stream",
     "text": [
      "2/2 - 0s - loss: 0.6548\n"
     ]
    },
    {
     "data": {
      "text/plain": [
       "0.6548402309417725"
      ]
     },
     "execution_count": 78,
     "metadata": {
      "tags": []
     },
     "output_type": "execute_result"
    }
   ],
   "source": [
    "# Evaluate the model on the test set\n",
    "\n",
    "unregularised_model.evaluate(test_data,test_targets,verbose=2)"
   ]
  },
  {
   "cell_type": "code",
   "execution_count": 79,
   "metadata": {
    "id": "f9EzKBzqKR9l"
   },
   "outputs": [],
   "source": [
    "# Re-train the regularised model\n",
    "regularised_model=get_regularised_model(1e-8,0.2)\n",
    "regularised_model.compile(optimizer='adam',loss='mse')\n",
    "reg_history=regularised_model.fit(test_data,test_targets,epochs=100,validation_split=0.15,verbose=False,batch_size=64,callbacks=[tf.keras.callbacks.EarlyStopping(patience=2)])\n"
   ]
  },
  {
   "cell_type": "code",
   "execution_count": 80,
   "metadata": {
    "colab": {
     "base_uri": "https://localhost:8080/"
    },
    "id": "8UjsLBJIKVbd",
    "outputId": "a565bc7d-8fb5-42da-953d-aa5e5466d7fe"
   },
   "outputs": [
    {
     "name": "stdout",
     "output_type": "stream",
     "text": [
      "2/2 - 0s - loss: 0.3284\n"
     ]
    },
    {
     "data": {
      "text/plain": [
       "0.32843250036239624"
      ]
     },
     "execution_count": 80,
     "metadata": {
      "tags": []
     },
     "output_type": "execute_result"
    }
   ],
   "source": [
    "# Evaluate the model on the test set\n",
    "\n",
    "regularised_model.evaluate(test_data,test_targets,verbose=2)"
   ]
  },
  {
   "cell_type": "markdown",
   "metadata": {
    "id": "QpfGQlfVKaQf"
   },
   "source": [
    "Plot the learning curves¶"
   ]
  },
  {
   "cell_type": "code",
   "execution_count": 81,
   "metadata": {
    "colab": {
     "base_uri": "https://localhost:8080/",
     "height": 350
    },
    "id": "E5CJXV_vKXdy",
    "outputId": "62371aa8-ffd0-40b7-ea65-602794044938"
   },
   "outputs": [
    {
     "data": {
      "image/png": "[encoded data removed]",
      "text/plain": [
       "<Figure size 864x360 with 2 Axes>"
      ]
     },
     "metadata": {
      "needs_background": "light",
      "tags": []
     },
     "output_type": "display_data"
    }
   ],
   "source": [
    "# Plot the training and validation loss\n",
    "\n",
    "import matplotlib.pyplot as plt\n",
    "\n",
    "fig = plt.figure(figsize=(12, 5))\n",
    "\n",
    "fig.add_subplot(121)\n",
    "\n",
    "plt.plot(unreg_history.history['loss'])\n",
    "plt.plot(unreg_history.history['val_loss'])\n",
    "plt.title('Unregularised model: loss vs. epochs')\n",
    "plt.ylabel('Loss')\n",
    "plt.xlabel('Epoch')\n",
    "plt.legend(['Training', 'Validation'], loc='upper right')\n",
    "\n",
    "fig.add_subplot(122)\n",
    "\n",
    "plt.plot(reg_history.history['loss'])\n",
    "plt.plot(reg_history.history['val_loss'])\n",
    "plt.title('Regularised model: loss vs. epochs')\n",
    "plt.ylabel('Loss')\n",
    "plt.xlabel('Epoch')\n",
    "plt.legend(['Training', 'Validation'], loc='upper right')\n",
    "\n",
    "plt.show()"
   ]
  },
  {
   "cell_type": "markdown",
   "metadata": {
    "id": "2shgiXrfKhq3"
   },
   "source": [
    "Saving and loading models\n",
    "Coding tutorials"
   ]
  },
  {
   "cell_type": "markdown",
   "metadata": {
    "id": "U0CTCQt9K0Z-"
   },
   "source": [
    "Saving and loading model weights¶"
   ]
  },
  {
   "cell_type": "code",
   "execution_count": 82,
   "metadata": {
    "colab": {
     "base_uri": "https://localhost:8080/"
    },
    "id": "-nlKrgSOKv7r",
    "outputId": "f638a49b-d741-485c-cf77-e4b55d2bca7a"
   },
   "outputs": [
    {
     "name": "stdout",
     "output_type": "stream",
     "text": [
      "Downloading data from https://www.cs.toronto.edu/~kriz/cifar-10-python.tar.gz\n",
      "170500096/170498071 [==============================] - 2s 0us/step\n"
     ]
    }
   ],
   "source": [
    "# Import the CIFAR-10 dataset and rescale the pixel values\n",
    "\n",
    "(x_train, y_train), (x_test, y_test) = tf.keras.datasets.cifar10.load_data()\n",
    "x_train = x_train / 255.0\n",
    "x_test = x_test / 255.0\n",
    "\n",
    "# Use smaller subset -- speeds things up\n",
    "x_train = x_train[:10000]\n",
    "y_train = y_train[:10000]\n",
    "x_test = x_test[:1000]\n",
    "y_test = y_test[:1000]"
   ]
  },
  {
   "cell_type": "code",
   "execution_count": 83,
   "metadata": {
    "colab": {
     "base_uri": "https://localhost:8080/",
     "height": 78
    },
    "id": "CgEhm7DFK4Cr",
    "outputId": "a3e28589-b222-4768-9e60-19702038baa1"
   },
   "outputs": [
    {
     "data": {
      "image/png": "[encoded data removed]",
      "text/plain": [
       "<Figure size 720x72 with 10 Axes>"
      ]
     },
     "metadata": {
      "needs_background": "light",
      "tags": []
     },
     "output_type": "display_data"
    }
   ],
   "source": [
    "# Plot the first 10 CIFAR-10 images\n",
    "\n",
    "import matplotlib.pyplot as plt\n",
    "\n",
    "fig, ax = plt.subplots(1, 10, figsize=(10, 1))\n",
    "for i in range(10):\n",
    "    ax[i].set_axis_off()\n",
    "    ax[i].imshow(x_train[i])"
   ]
  },
  {
   "cell_type": "markdown",
   "metadata": {
    "id": "PD5BIZxJK9cD"
   },
   "source": [
    "Introduce two useful functions¶"
   ]
  },
  {
   "cell_type": "code",
   "execution_count": 84,
   "metadata": {
    "id": "2zI6uAPxK6t0"
   },
   "outputs": [],
   "source": [
    "# Introduce function to test model accuracy\n",
    "\n",
    "def get_test_accuracy(model, x_test, y_test):\n",
    "    test_loss, test_acc = model.evaluate(x=x_test, y=y_test, verbose=0)\n",
    "    print('accuracy: {acc:0.3f}'.format(acc=test_acc))"
   ]
  },
  {
   "cell_type": "code",
   "execution_count": 85,
   "metadata": {
    "id": "xyeWawgJLAfh"
   },
   "outputs": [],
   "source": [
    "# Introduce function that creates a new instance of a simple CNN\n",
    "\n",
    "from tensorflow.keras.models import Sequential\n",
    "from tensorflow.keras.layers import Dense, Flatten, Conv2D, MaxPooling2D\n",
    "\n",
    "def get_new_model():\n",
    "    model = Sequential([\n",
    "        Conv2D(filters=16, input_shape=(32, 32, 3), kernel_size=(3, 3), \n",
    "               activation='relu', name='conv_1'),\n",
    "        Conv2D(filters=8, kernel_size=(3, 3), activation='relu', name='conv_2'),\n",
    "        MaxPooling2D(pool_size=(4, 4), name='pool_1'),\n",
    "        Flatten(name='flatten'),\n",
    "        Dense(units=32, activation='relu', name='dense_1'),\n",
    "        Dense(units=10, activation='softmax', name='dense_2')\n",
    "    ])\n",
    "    model.compile(optimizer='adam',\n",
    "                  loss='sparse_categorical_crossentropy',\n",
    "                  metrics=['accuracy'])\n",
    "    return model"
   ]
  },
  {
   "cell_type": "markdown",
   "metadata": {
    "id": "hppGpISpLJMx"
   },
   "source": [
    "Create simple convolutional neural network classifier"
   ]
  },
  {
   "cell_type": "code",
   "execution_count": 86,
   "metadata": {
    "colab": {
     "base_uri": "https://localhost:8080/"
    },
    "id": "0XWvLh-TLDOU",
    "outputId": "c57fdca6-7663-44c3-d3da-d8f54196c090"
   },
   "outputs": [
    {
     "name": "stdout",
     "output_type": "stream",
     "text": [
      "Model: \"sequential_10\"\n",
      "_________________________________________________________________\n",
      "Layer (type)                 Output Shape              Param #   \n",
      "=================================================================\n",
      "conv_1 (Conv2D)              (None, 30, 30, 16)        448       \n",
      "_________________________________________________________________\n",
      "conv_2 (Conv2D)              (None, 28, 28, 8)         1160      \n",
      "_________________________________________________________________\n",
      "pool_1 (MaxPooling2D)        (None, 7, 7, 8)           0         \n",
      "_________________________________________________________________\n",
      "flatten (Flatten)            (None, 392)               0         \n",
      "_________________________________________________________________\n",
      "dense_1 (Dense)              (None, 32)                12576     \n",
      "_________________________________________________________________\n",
      "dense_2 (Dense)              (None, 10)                330       \n",
      "=================================================================\n",
      "Total params: 14,514\n",
      "Trainable params: 14,514\n",
      "Non-trainable params: 0\n",
      "_________________________________________________________________\n"
     ]
    }
   ],
   "source": [
    "# Create an instance of the model and show model summary\n",
    "\n",
    "model1=get_new_model()\n",
    "model1.summary()"
   ]
  },
  {
   "cell_type": "code",
   "execution_count": 87,
   "metadata": {
    "colab": {
     "base_uri": "https://localhost:8080/"
    },
    "id": "WK6-99C7LMXJ",
    "outputId": "49370750-566b-485a-cfce-640ae56dd990"
   },
   "outputs": [
    {
     "name": "stdout",
     "output_type": "stream",
     "text": [
      "accuracy: 0.094\n"
     ]
    }
   ],
   "source": [
    "# Test accuracy of the untrained model, around 10% (random)\n",
    "\n",
    "get_test_accuracy(model1,x_test,y_test)"
   ]
  },
  {
   "cell_type": "markdown",
   "metadata": {
    "id": "TKZdSR0yLQ0p"
   },
   "source": [
    "Train model with checkpoints"
   ]
  },
  {
   "cell_type": "code",
   "execution_count": 88,
   "metadata": {
    "id": "cJWlvoEmLRX7"
   },
   "outputs": [],
   "source": [
    "from tensorflow.keras.callbacks import ModelCheckpoint"
   ]
  },
  {
   "cell_type": "code",
   "execution_count": 89,
   "metadata": {
    "id": "Spm0lN7FLUbm"
   },
   "outputs": [],
   "source": [
    "# Create Tensorflow checkpoint object\n",
    "\n",
    "checkpoint_path='model_checkpoints/checkpoint'\n",
    "checkpoint=ModelCheckpoint(filepath=checkpoint_path,\n",
    "                          frequency='epoch',\n",
    "                          save_weights_only=True,\n",
    "                          verbose=1)"
   ]
  },
  {
   "cell_type": "code",
   "execution_count": 90,
   "metadata": {
    "colab": {
     "base_uri": "https://localhost:8080/"
    },
    "id": "Up2tF8grLW0i",
    "outputId": "0d500733-9e28-444b-b6b3-dd2b8a6f94fa"
   },
   "outputs": [
    {
     "name": "stdout",
     "output_type": "stream",
     "text": [
      "Epoch 1/3\n",
      "313/313 [==============================] - 10s 29ms/step - loss: 2.0195 - accuracy: 0.2557\n",
      "\n",
      "Epoch 00001: saving model to model_checkpoints/checkpoint\n",
      "Epoch 2/3\n",
      "313/313 [==============================] - 9s 29ms/step - loss: 1.6560 - accuracy: 0.4055\n",
      "\n",
      "Epoch 00002: saving model to model_checkpoints/checkpoint\n",
      "Epoch 3/3\n",
      "313/313 [==============================] - 9s 29ms/step - loss: 1.5233 - accuracy: 0.4562\n",
      "\n",
      "Epoch 00003: saving model to model_checkpoints/checkpoint\n"
     ]
    },
    {
     "data": {
      "text/plain": [
       "<tensorflow.python.keras.callbacks.History at 0x7f5a1f4e9e80>"
      ]
     },
     "execution_count": 90,
     "metadata": {
      "tags": []
     },
     "output_type": "execute_result"
    }
   ],
   "source": [
    "# Fit model, with simple checkpoint which saves (and overwrites) model weights every epoch\n",
    "model1.fit(x=x_train,\n",
    "         y=y_train,\n",
    "         epochs=3,\n",
    "         callbacks=[checkpoint])\n"
   ]
  },
  {
   "cell_type": "code",
   "execution_count": 93,
   "metadata": {
    "colab": {
     "base_uri": "https://localhost:8080/"
    },
    "id": "8wFPuVOkLY3o",
    "outputId": "62cf45b2-5bba-4efe-e405-188ca527ffbc"
   },
   "outputs": [
    {
     "name": "stdout",
     "output_type": "stream",
     "text": [
      "total 184K\n",
      "-rw-r--r-- 1 root root   77 Jan 22 08:51 checkpoint\n",
      "-rw-r--r-- 1 root root 174K Jan 22 08:51 checkpoint.data-00000-of-00001\n",
      "-rw-r--r-- 1 root root 2.0K Jan 22 08:51 checkpoint.index\n"
     ]
    }
   ],
   "source": [
    "# Have a look at what the checkpoint creates\n",
    "\n",
    "! ls -lh model_checkpoints"
   ]
  },
  {
   "cell_type": "code",
   "execution_count": 94,
   "metadata": {
    "colab": {
     "base_uri": "https://localhost:8080/"
    },
    "id": "RPhZNHidLb4p",
    "outputId": "4de2fca3-1f1e-4c82-e75c-dd270ae93a4b"
   },
   "outputs": [
    {
     "name": "stdout",
     "output_type": "stream",
     "text": [
      "accuracy: 0.476\n"
     ]
    }
   ],
   "source": [
    "# Evaluate the performance of the trained model\n",
    "\n",
    "get_test_accuracy(model1,x_test,y_test)"
   ]
  },
  {
   "cell_type": "markdown",
   "metadata": {
    "id": "scAevmypLg9z"
   },
   "source": [
    "Create new model, load weights"
   ]
  },
  {
   "cell_type": "code",
   "execution_count": 95,
   "metadata": {
    "colab": {
     "base_uri": "https://localhost:8080/"
    },
    "id": "yDYCQKJ5Lek-",
    "outputId": "34cef1b1-f764-433a-ccb0-907a9c6c32ee"
   },
   "outputs": [
    {
     "name": "stdout",
     "output_type": "stream",
     "text": [
      "accuracy: 0.111\n"
     ]
    }
   ],
   "source": [
    "# Create a new instance of the (initialised) model, accuracy around 10% again\n",
    "\n",
    "model2=get_new_model()\n",
    "get_test_accuracy(model2,x_test,y_test)"
   ]
  },
  {
   "cell_type": "code",
   "execution_count": 96,
   "metadata": {
    "colab": {
     "base_uri": "https://localhost:8080/"
    },
    "id": "ytbpKyGgLkRv",
    "outputId": "526f2b97-ed04-436f-f442-ddb66e6bd3fe"
   },
   "outputs": [
    {
     "name": "stdout",
     "output_type": "stream",
     "text": [
      "accuracy: 0.476\n"
     ]
    }
   ],
   "source": [
    "# Load weights -- accuracy is the same as the trained model\n",
    "\n",
    "model2.load_weights(checkpoint_path)\n",
    "get_test_accuracy(model2,x_test,y_test)"
   ]
  },
  {
   "cell_type": "markdown",
   "metadata": {
    "id": "V4ttCZSyLuvb"
   },
   "source": [
    "Clear directory"
   ]
  },
  {
   "cell_type": "code",
   "execution_count": 97,
   "metadata": {
    "id": "bUfSlS-qLvXE"
   },
   "outputs": [],
   "source": [
    "! rm -r model_checkpoints"
   ]
  },
  {
   "cell_type": "markdown",
   "metadata": {
    "id": "XfMdjyBtL2MU"
   },
   "source": [
    "Model saving criteria\n",
    "Create more customised checkpoint"
   ]
  },
  {
   "cell_type": "code",
   "execution_count": 98,
   "metadata": {
    "id": "AN6LMIcgLxn4"
   },
   "outputs": [],
   "source": [
    "from tensorflow.keras.callbacks import ModelCheckpoint"
   ]
  },
  {
   "cell_type": "code",
   "execution_count": 99,
   "metadata": {
    "id": "qH6A2OH3L5on"
   },
   "outputs": [],
   "source": [
    "# Create Tensorflow checkpoint object with epoch and batch details\n",
    "checkpoint_5000_path= \\\n",
    "        'model_checkpoints_5000/checkpoint_{epoch:02d}_{batch:04d}'\n",
    "checkpoint_5000=ModelCheckpoint(filepath=checkpoint_5000_path,\n",
    "                               save_weights_only=True,\n",
    "                               save_freq=5000,\n",
    "                               verbose=1)\n"
   ]
  },
  {
   "cell_type": "code",
   "execution_count": 100,
   "metadata": {
    "colab": {
     "base_uri": "https://localhost:8080/"
    },
    "id": "JJ3H8cWGL9BF",
    "outputId": "d372a872-01f6-41f8-d9cc-57a768bf8497"
   },
   "outputs": [
    {
     "name": "stdout",
     "output_type": "stream",
     "text": [
      "Epoch 1/3\n",
      "1000/1000 [==============================] - 12s 12ms/step - loss: 2.0285 - accuracy: 0.2452 - val_loss: 1.5790 - val_accuracy: 0.4140\n",
      "Epoch 2/3\n",
      "1000/1000 [==============================] - 12s 12ms/step - loss: 1.5520 - accuracy: 0.4382 - val_loss: 1.4471 - val_accuracy: 0.4760\n",
      "Epoch 3/3\n",
      "1000/1000 [==============================] - 12s 12ms/step - loss: 1.4116 - accuracy: 0.4951 - val_loss: 1.3997 - val_accuracy: 0.5030\n"
     ]
    },
    {
     "data": {
      "text/plain": [
       "<tensorflow.python.keras.callbacks.History at 0x7f5a0de08668>"
      ]
     },
     "execution_count": 100,
     "metadata": {
      "tags": []
     },
     "output_type": "execute_result"
    }
   ],
   "source": [
    "# Create and fit model with checkpoint\n",
    "model=get_new_model()\n",
    "model.fit(x=x_train,\n",
    "          y=y_train,\n",
    "          epochs=3,\n",
    "         validation_data=(x_test,y_test),\n",
    "         batch_size=10,\n",
    "         callbacks=[checkpoint_5000])\n"
   ]
  },
  {
   "cell_type": "code",
   "execution_count": 101,
   "metadata": {
    "colab": {
     "base_uri": "https://localhost:8080/"
    },
    "id": "rDkvbXhXL_2L",
    "outputId": "549826c2-b393-41cc-d074-2dab33893121"
   },
   "outputs": [
    {
     "name": "stdout",
     "output_type": "stream",
     "text": [
      "ls: cannot access 'model_checkpoints_5000': No such file or directory\n"
     ]
    }
   ],
   "source": [
    "# Have a look at what the checkpoint creates\n",
    "\n",
    "!ls -lh model_checkpoints_5000"
   ]
  },
  {
   "cell_type": "markdown",
   "metadata": {
    "id": "YwAtel-CMG5-"
   },
   "source": [
    "Work with model saving criteria¶"
   ]
  },
  {
   "cell_type": "code",
   "execution_count": 102,
   "metadata": {
    "id": "eS6qvHjpMDxx"
   },
   "outputs": [],
   "source": [
    "# Use tiny training and test set -- will overfit!\n",
    "\n",
    "x_train = x_train[:100]\n",
    "y_train = y_train[:100]\n",
    "x_test = x_test[:100]\n",
    "y_test = y_test[:100]"
   ]
  },
  {
   "cell_type": "code",
   "execution_count": 103,
   "metadata": {
    "id": "qr_0I8V-MKSi"
   },
   "outputs": [],
   "source": [
    "# Create a new instance of untrained model\n",
    "\n",
    "model=get_new_model()\n",
    "checkpoint_best_path='model_checkpoints_best/checkpoint'\n",
    "checkpoint_best=ModelCheckpoint(filepath=checkpoint_best_path,\n",
    "                                save_weights_only=True,\n",
    "                                save_freq='epoch',\n",
    "                                monitor='val_accuracy',\n",
    "                                save_best_only=True,\n",
    "                                verbose=1)"
   ]
  },
  {
   "cell_type": "code",
   "execution_count": 104,
   "metadata": {
    "colab": {
     "base_uri": "https://localhost:8080/"
    },
    "id": "N7YoC5BMMMj7",
    "outputId": "fdc17cf4-4434-4ad5-c278-de22d499658f"
   },
   "outputs": [
    {
     "name": "stdout",
     "output_type": "stream",
     "text": [
      "\n",
      "Epoch 00001: val_accuracy improved from -inf to 0.06000, saving model to model_checkpoints_best/checkpoint\n",
      "\n",
      "Epoch 00002: val_accuracy improved from 0.06000 to 0.08000, saving model to model_checkpoints_best/checkpoint\n",
      "\n",
      "Epoch 00003: val_accuracy did not improve from 0.08000\n",
      "\n",
      "Epoch 00004: val_accuracy did not improve from 0.08000\n",
      "\n",
      "Epoch 00005: val_accuracy did not improve from 0.08000\n",
      "\n",
      "Epoch 00006: val_accuracy improved from 0.08000 to 0.10000, saving model to model_checkpoints_best/checkpoint\n",
      "\n",
      "Epoch 00007: val_accuracy did not improve from 0.10000\n",
      "\n",
      "Epoch 00008: val_accuracy improved from 0.10000 to 0.13000, saving model to model_checkpoints_best/checkpoint\n",
      "\n",
      "Epoch 00009: val_accuracy did not improve from 0.13000\n",
      "\n",
      "Epoch 00010: val_accuracy improved from 0.13000 to 0.15000, saving model to model_checkpoints_best/checkpoint\n",
      "\n",
      "Epoch 00011: val_accuracy did not improve from 0.15000\n",
      "\n",
      "Epoch 00012: val_accuracy did not improve from 0.15000\n",
      "\n",
      "Epoch 00013: val_accuracy improved from 0.15000 to 0.16000, saving model to model_checkpoints_best/checkpoint\n",
      "\n",
      "Epoch 00014: val_accuracy did not improve from 0.16000\n",
      "\n",
      "Epoch 00015: val_accuracy did not improve from 0.16000\n",
      "\n",
      "Epoch 00016: val_accuracy did not improve from 0.16000\n",
      "\n",
      "Epoch 00017: val_accuracy did not improve from 0.16000\n",
      "\n",
      "Epoch 00018: val_accuracy did not improve from 0.16000\n",
      "\n",
      "Epoch 00019: val_accuracy improved from 0.16000 to 0.21000, saving model to model_checkpoints_best/checkpoint\n",
      "\n",
      "Epoch 00020: val_accuracy did not improve from 0.21000\n",
      "\n",
      "Epoch 00021: val_accuracy did not improve from 0.21000\n",
      "\n",
      "Epoch 00022: val_accuracy did not improve from 0.21000\n",
      "\n",
      "Epoch 00023: val_accuracy improved from 0.21000 to 0.22000, saving model to model_checkpoints_best/checkpoint\n",
      "\n",
      "Epoch 00024: val_accuracy did not improve from 0.22000\n",
      "\n",
      "Epoch 00025: val_accuracy improved from 0.22000 to 0.26000, saving model to model_checkpoints_best/checkpoint\n",
      "\n",
      "Epoch 00026: val_accuracy did not improve from 0.26000\n",
      "\n",
      "Epoch 00027: val_accuracy did not improve from 0.26000\n",
      "\n",
      "Epoch 00028: val_accuracy did not improve from 0.26000\n",
      "\n",
      "Epoch 00029: val_accuracy did not improve from 0.26000\n",
      "\n",
      "Epoch 00030: val_accuracy did not improve from 0.26000\n",
      "\n",
      "Epoch 00031: val_accuracy did not improve from 0.26000\n",
      "\n",
      "Epoch 00032: val_accuracy did not improve from 0.26000\n",
      "\n",
      "Epoch 00033: val_accuracy did not improve from 0.26000\n",
      "\n",
      "Epoch 00034: val_accuracy did not improve from 0.26000\n",
      "\n",
      "Epoch 00035: val_accuracy did not improve from 0.26000\n",
      "\n",
      "Epoch 00036: val_accuracy did not improve from 0.26000\n",
      "\n",
      "Epoch 00037: val_accuracy did not improve from 0.26000\n",
      "\n",
      "Epoch 00038: val_accuracy did not improve from 0.26000\n",
      "\n",
      "Epoch 00039: val_accuracy did not improve from 0.26000\n",
      "\n",
      "Epoch 00040: val_accuracy did not improve from 0.26000\n",
      "\n",
      "Epoch 00041: val_accuracy did not improve from 0.26000\n",
      "\n",
      "Epoch 00042: val_accuracy did not improve from 0.26000\n",
      "\n",
      "Epoch 00043: val_accuracy did not improve from 0.26000\n",
      "\n",
      "Epoch 00044: val_accuracy did not improve from 0.26000\n",
      "\n",
      "Epoch 00045: val_accuracy did not improve from 0.26000\n",
      "\n",
      "Epoch 00046: val_accuracy did not improve from 0.26000\n",
      "\n",
      "Epoch 00047: val_accuracy did not improve from 0.26000\n",
      "\n",
      "Epoch 00048: val_accuracy did not improve from 0.26000\n",
      "\n",
      "Epoch 00049: val_accuracy did not improve from 0.26000\n",
      "\n",
      "Epoch 00050: val_accuracy did not improve from 0.26000\n"
     ]
    }
   ],
   "source": [
    "# Create Tensorflow checkpoint object which monitors the validation accuracy\n",
    "history=model.fit(x=x_train,\n",
    "                 y=y_train,\n",
    "                 epochs=50,\n",
    "                 validation_data=(x_test,y_test),\n",
    "                 batch_size=10,\n",
    "                 callbacks=[checkpoint_best],\n",
    "                 verbose=0)"
   ]
  },
  {
   "cell_type": "code",
   "execution_count": 105,
   "metadata": {
    "colab": {
     "base_uri": "https://localhost:8080/",
     "height": 283
    },
    "id": "a8VCPKMfMO8R",
    "outputId": "8a211e1d-af5a-4afb-bd85-65eb5550a9f7"
   },
   "outputs": [
    {
     "data": {
      "text/plain": [
       "<matplotlib.axes._subplots.AxesSubplot at 0x7f5a0dca4978>"
      ]
     },
     "execution_count": 105,
     "metadata": {
      "tags": []
     },
     "output_type": "execute_result"
    },
    {
     "data": {
      "image/png": "[encoded data removed]",
      "text/plain": [
       "<Figure size 432x288 with 1 Axes>"
      ]
     },
     "metadata": {
      "needs_background": "light",
      "tags": []
     },
     "output_type": "display_data"
    }
   ],
   "source": [
    "# Plot training and testing curves\n",
    "\n",
    "import pandas as pd\n",
    "\n",
    "df = pd.DataFrame(history.history)\n",
    "df.plot(y=['accuracy', 'val_accuracy'])"
   ]
  },
  {
   "cell_type": "code",
   "execution_count": 106,
   "metadata": {
    "colab": {
     "base_uri": "https://localhost:8080/"
    },
    "id": "mQrjSqObMTtG",
    "outputId": "6039d4b0-c7c9-4a59-da0b-f143ce19efc5"
   },
   "outputs": [
    {
     "name": "stdout",
     "output_type": "stream",
     "text": [
      "total 184K\n",
      "-rw-r--r-- 1 root root   77 Jan 22 08:52 checkpoint\n",
      "-rw-r--r-- 1 root root 174K Jan 22 08:52 checkpoint.data-00000-of-00001\n",
      "-rw-r--r-- 1 root root 2.0K Jan 22 08:52 checkpoint.index\n"
     ]
    }
   ],
   "source": [
    "# Inspect the checkpoint directory\n",
    "\n",
    "!ls -lh model_checkpoints_best"
   ]
  },
  {
   "cell_type": "code",
   "execution_count": 107,
   "metadata": {
    "colab": {
     "base_uri": "https://localhost:8080/"
    },
    "id": "jSGxXV17MV1w",
    "outputId": "30ea204c-6f5e-4c09-d744-be567462d180"
   },
   "outputs": [
    {
     "name": "stdout",
     "output_type": "stream",
     "text": [
      "accuracy: 0.260\n"
     ]
    }
   ],
   "source": [
    "# Create a new model with the saved weights\n",
    "new_model=get_new_model()\n",
    "new_model.load_weights(checkpoint_best_path)\n",
    "get_test_accuracy(new_model,x_test,y_test)"
   ]
  },
  {
   "cell_type": "markdown",
   "metadata": {
    "id": "wTB8rq31MbwU"
   },
   "source": [
    "Clear directory"
   ]
  },
  {
   "cell_type": "code",
   "execution_count": 108,
   "metadata": {
    "colab": {
     "base_uri": "https://localhost:8080/"
    },
    "id": "ogbCB5aSMYGd",
    "outputId": "cec9da42-9149-427c-ee61-986cf0dbdf81"
   },
   "outputs": [
    {
     "name": "stdout",
     "output_type": "stream",
     "text": [
      "rm: cannot remove 'model_checkpoints_5000': No such file or directory\n"
     ]
    }
   ],
   "source": [
    "! rm -r model_checkpoints_5000 model_checkpoints_best"
   ]
  },
  {
   "cell_type": "markdown",
   "metadata": {
    "id": "DxI-_5TSMhle"
   },
   "source": [
    "Saving the entire model\n",
    "Create checkpoint that saves whole model, not just weights"
   ]
  },
  {
   "cell_type": "code",
   "execution_count": 109,
   "metadata": {
    "id": "B9LInbVGMfCv"
   },
   "outputs": [],
   "source": [
    "from tensorflow.keras.callbacks import ModelCheckpoint"
   ]
  },
  {
   "cell_type": "code",
   "execution_count": 110,
   "metadata": {
    "id": "B7OUn5dgMkwy"
   },
   "outputs": [],
   "source": [
    "# Create Tensorflow checkpoint object\n",
    "\n",
    "checkpoint_path='model_checkpoint'\n",
    "checkpoint=ModelCheckpoint(filepath=checkpoint_path,\n",
    "                          save_weights_only=False,\n",
    "                          frequency='epoch',\n",
    "                          verbose=1)"
   ]
  },
  {
   "cell_type": "code",
   "execution_count": 111,
   "metadata": {
    "colab": {
     "base_uri": "https://localhost:8080/"
    },
    "id": "VZHnUA6QMnIS",
    "outputId": "6a1cf06a-3085-4ac2-84d4-cbcf87174494"
   },
   "outputs": [
    {
     "name": "stdout",
     "output_type": "stream",
     "text": [
      "Epoch 1/3\n",
      "4/4 [==============================] - 0s 22ms/step - loss: 2.2997 - accuracy: 0.1332\n",
      "\n",
      "Epoch 00001: saving model to model_checkpoint\n",
      "INFO:tensorflow:Assets written to: model_checkpoint/assets\n",
      "Epoch 2/3\n",
      "4/4 [==============================] - 0s 26ms/step - loss: 2.2646 - accuracy: 0.1793\n",
      "\n",
      "Epoch 00002: saving model to model_checkpoint\n",
      "INFO:tensorflow:Assets written to: model_checkpoint/assets\n",
      "Epoch 3/3\n",
      "4/4 [==============================] - 0s 23ms/step - loss: 2.2673 - accuracy: 0.2182\n",
      "\n",
      "Epoch 00003: saving model to model_checkpoint\n",
      "INFO:tensorflow:Assets written to: model_checkpoint/assets\n"
     ]
    },
    {
     "data": {
      "text/plain": [
       "<tensorflow.python.keras.callbacks.History at 0x7f5a0db497f0>"
      ]
     },
     "execution_count": 111,
     "metadata": {
      "tags": []
     },
     "output_type": "execute_result"
    }
   ],
   "source": [
    "# Create and fit model with checkpoint\n",
    "\n",
    "model=get_new_model()\n",
    "model.fit(x_train,y_train,epochs=3,callbacks=[checkpoint])"
   ]
  },
  {
   "cell_type": "code",
   "execution_count": 112,
   "metadata": {
    "colab": {
     "base_uri": "https://localhost:8080/"
    },
    "id": "XWNFFV_2MrYJ",
    "outputId": "bef84aca-18cc-444a-d7d6-a26886a276d8"
   },
   "outputs": [
    {
     "name": "stdout",
     "output_type": "stream",
     "text": [
      "total 136K\n",
      "drwxr-xr-x 2 root root 4.0K Jan 22 08:52 assets\n",
      "-rw-r--r-- 1 root root 127K Jan 22 08:52 saved_model.pb\n",
      "drwxr-xr-x 2 root root 4.0K Jan 22 08:52 variables\n"
     ]
    }
   ],
   "source": [
    "#Inspect what the checkpoint has created\n",
    "\n",
    "# Have a look at what the checkpoint creates\n",
    "! ls -lh model_checkpoint\n"
   ]
  },
  {
   "cell_type": "code",
   "execution_count": 113,
   "metadata": {
    "colab": {
     "base_uri": "https://localhost:8080/"
    },
    "id": "1mVFnO54Mv6w",
    "outputId": "b38d0003-06d9-4a46-9a07-e8b6d2a0e7ad"
   },
   "outputs": [
    {
     "name": "stdout",
     "output_type": "stream",
     "text": [
      "total 184K\n",
      "-rw-r--r-- 1 root root 177K Jan 22 08:52 variables.data-00000-of-00001\n",
      "-rw-r--r-- 1 root root 2.2K Jan 22 08:52 variables.index\n"
     ]
    }
   ],
   "source": [
    "# Enter variables directory\n",
    "\n",
    "! ls -lh model_checkpoint/variables"
   ]
  },
  {
   "cell_type": "code",
   "execution_count": 114,
   "metadata": {
    "colab": {
     "base_uri": "https://localhost:8080/"
    },
    "id": "-Nks2L-hMyNp",
    "outputId": "41458759-9fc9-430a-d574-3e2fbfd39511"
   },
   "outputs": [
    {
     "name": "stdout",
     "output_type": "stream",
     "text": [
      "accuracy: 0.090\n"
     ]
    }
   ],
   "source": [
    "# Get the model's test accuracy\n",
    "\n",
    "get_test_accuracy(model,x_test,y_test)"
   ]
  },
  {
   "cell_type": "markdown",
   "metadata": {
    "id": "BBpgFzGvM3YB"
   },
   "source": [
    "Create new model from scratch"
   ]
  },
  {
   "cell_type": "code",
   "execution_count": 115,
   "metadata": {
    "id": "FC0Hr_jGMz9_"
   },
   "outputs": [],
   "source": [
    "# Delete model\n",
    "del_model=get_new_model()\n"
   ]
  },
  {
   "cell_type": "code",
   "execution_count": 116,
   "metadata": {
    "id": "Q-wLuVJOM8W7"
   },
   "outputs": [],
   "source": [
    "from tensorflow.keras.models import load_model"
   ]
  },
  {
   "cell_type": "code",
   "execution_count": 117,
   "metadata": {
    "colab": {
     "base_uri": "https://localhost:8080/"
    },
    "id": "JV7d_eEDM9cP",
    "outputId": "319daee6-1d45-49be-b63e-68a3d9fddb61"
   },
   "outputs": [
    {
     "name": "stdout",
     "output_type": "stream",
     "text": [
      "accuracy: 0.090\n"
     ]
    }
   ],
   "source": [
    "# Reload model from scratch\n",
    "del_model=load_model(checkpoint_path)\n",
    "get_test_accuracy(del_model,x_test,y_test)"
   ]
  },
  {
   "cell_type": "markdown",
   "metadata": {
    "id": "o5EePqJFNEh2"
   },
   "source": [
    "Use the .h5 format to save model"
   ]
  },
  {
   "cell_type": "code",
   "execution_count": 118,
   "metadata": {
    "id": "kMCFV5Z2NATE"
   },
   "outputs": [],
   "source": [
    "# Save the model in .h5 format\n",
    "model.save('my_model.h5')"
   ]
  },
  {
   "cell_type": "code",
   "execution_count": 119,
   "metadata": {
    "colab": {
     "base_uri": "https://localhost:8080/"
    },
    "id": "1_kRpswtNHr4",
    "outputId": "f5c6baaf-ba97-464d-e290-a3b6444a0a2b"
   },
   "outputs": [
    {
     "name": "stdout",
     "output_type": "stream",
     "text": [
      "-rw-r--r-- 1 root root 211K Jan 22 08:53 my_model.h5\n"
     ]
    }
   ],
   "source": [
    "# Inspect .h5 file\n",
    "\n",
    "! ls -lh my_model.h5"
   ]
  },
  {
   "cell_type": "code",
   "execution_count": 120,
   "metadata": {
    "id": "iYliVgOSNJjp"
   },
   "outputs": [],
   "source": [
    "# Delete model\n",
    "\n",
    "del model"
   ]
  },
  {
   "cell_type": "code",
   "execution_count": 121,
   "metadata": {
    "colab": {
     "base_uri": "https://localhost:8080/"
    },
    "id": "0JLZnsEXNLmS",
    "outputId": "0c81bb3a-ac15-4b29-d4b9-e9705945e2c5"
   },
   "outputs": [
    {
     "name": "stdout",
     "output_type": "stream",
     "text": [
      "accuracy: 0.090\n"
     ]
    }
   ],
   "source": [
    "# Reload model from scratch\n",
    "\n",
    "model=load_model('my_model.h5')\n",
    "get_test_accuracy(model,x_test,y_test)"
   ]
  },
  {
   "cell_type": "markdown",
   "metadata": {
    "id": "86PV8Be6NRn-"
   },
   "source": [
    "Clear directory"
   ]
  },
  {
   "cell_type": "code",
   "execution_count": 122,
   "metadata": {
    "colab": {
     "base_uri": "https://localhost:8080/"
    },
    "id": "V9kWTOLjNN9h",
    "outputId": "74df437c-af7d-435b-bd7c-8852acdd4b4f"
   },
   "outputs": [
    {
     "name": "stdout",
     "output_type": "stream",
     "text": [
      "rm: cannot remove 'model_checkpoints': No such file or directory\n"
     ]
    }
   ],
   "source": [
    "! rm -r model_checkpoints\n",
    "! rm my_model.h5"
   ]
  },
  {
   "cell_type": "markdown",
   "metadata": {
    "id": "5qyVR_shNYpk"
   },
   "source": [
    "Loading pre-trained Keras models\n",
    "Import and build Keras ResNet50 model\n",
    "Today we'll be using the ResNet50 model designed by a team at Microsoft Research, available through Keras applications. Please see the description on the Keras applications page for details. If you continue using it, please cite it properly! The paper it comes from is:\n",
    "\n",
    "Kaiming He, Xiangyu Zhang, Shaoqing Ren, Jian Sun. \"Deep Residual Learning for Image Recognition\", 2015.\n",
    "\n",
    "This model takes a long time to download on the Coursera platform, so it is pre-downloaded in your workspace and saved in Keras HDF5 format. If you want to import it on your personal machine, use the following code:\n",
    "\n",
    "from tensorflow.keras.applications import ResNet50\n",
    "model = ResNet50(weights='imagenet')\n",
    "In this coding tutorial, you will instead load the model directly from disk."
   ]
  },
  {
   "cell_type": "code",
   "execution_count": 123,
   "metadata": {
    "id": "7Oh1X02xNUvX"
   },
   "outputs": [],
   "source": [
    "from tensorflow.keras.models import load_model"
   ]
  },
  {
   "cell_type": "code",
   "execution_count": 128,
   "metadata": {
    "colab": {
     "base_uri": "https://localhost:8080/",
     "height": 346
    },
    "id": "IZYrzOr7Nd82",
    "outputId": "1cb68b02-06e6-4f4f-eab8-6b398b10b370"
   },
   "outputs": [
    {
     "ename": "OSError",
     "evalue": "ignored",
     "output_type": "error",
     "traceback": [
      "\u001b[0;31m---------------------------------------------------------------------------\u001b[0m",
      "\u001b[0;31mOSError\u001b[0m                                   Traceback (most recent call last)",
      "\u001b[0;32m<ipython-input-128-51c71d4ede13>\u001b[0m in \u001b[0;36m<module>\u001b[0;34m()\u001b[0m\n\u001b[1;32m      1\u001b[0m \u001b[0;31m# Build Keras ResNet50 model\u001b[0m\u001b[0;34m\u001b[0m\u001b[0;34m\u001b[0m\u001b[0;34m\u001b[0m\u001b[0m\n\u001b[0;32m----> 2\u001b[0;31m \u001b[0mmodel\u001b[0m\u001b[0;34m=\u001b[0m\u001b[0mload_model\u001b[0m\u001b[0;34m(\u001b[0m\u001b[0;34m'models/Keras_ResNet50.h5'\u001b[0m\u001b[0;34m)\u001b[0m\u001b[0;34m\u001b[0m\u001b[0;34m\u001b[0m\u001b[0m\n\u001b[0m\u001b[1;32m      3\u001b[0m \u001b[0mmodel\u001b[0m\u001b[0;34m.\u001b[0m\u001b[0msummary\u001b[0m\u001b[0;34m(\u001b[0m\u001b[0;34m)\u001b[0m\u001b[0;34m\u001b[0m\u001b[0;34m\u001b[0m\u001b[0m\n",
      "\u001b[0;32m/usr/local/lib/python3.6/dist-packages/tensorflow/python/keras/saving/save.py\u001b[0m in \u001b[0;36mload_model\u001b[0;34m(filepath, custom_objects, compile, options)\u001b[0m\n\u001b[1;32m    209\u001b[0m       \u001b[0mfilepath\u001b[0m \u001b[0;34m=\u001b[0m \u001b[0mpath_to_string\u001b[0m\u001b[0;34m(\u001b[0m\u001b[0mfilepath\u001b[0m\u001b[0;34m)\u001b[0m\u001b[0;34m\u001b[0m\u001b[0;34m\u001b[0m\u001b[0m\n\u001b[1;32m    210\u001b[0m       \u001b[0;32mif\u001b[0m \u001b[0misinstance\u001b[0m\u001b[0;34m(\u001b[0m\u001b[0mfilepath\u001b[0m\u001b[0;34m,\u001b[0m \u001b[0msix\u001b[0m\u001b[0;34m.\u001b[0m\u001b[0mstring_types\u001b[0m\u001b[0;34m)\u001b[0m\u001b[0;34m:\u001b[0m\u001b[0;34m\u001b[0m\u001b[0;34m\u001b[0m\u001b[0m\n\u001b[0;32m--> 211\u001b[0;31m         \u001b[0mloader_impl\u001b[0m\u001b[0;34m.\u001b[0m\u001b[0mparse_saved_model\u001b[0m\u001b[0;34m(\u001b[0m\u001b[0mfilepath\u001b[0m\u001b[0;34m)\u001b[0m\u001b[0;34m\u001b[0m\u001b[0;34m\u001b[0m\u001b[0m\n\u001b[0m\u001b[1;32m    212\u001b[0m         \u001b[0;32mreturn\u001b[0m \u001b[0msaved_model_load\u001b[0m\u001b[0;34m.\u001b[0m\u001b[0mload\u001b[0m\u001b[0;34m(\u001b[0m\u001b[0mfilepath\u001b[0m\u001b[0;34m,\u001b[0m \u001b[0mcompile\u001b[0m\u001b[0;34m,\u001b[0m \u001b[0moptions\u001b[0m\u001b[0;34m)\u001b[0m\u001b[0;34m\u001b[0m\u001b[0;34m\u001b[0m\u001b[0m\n\u001b[1;32m    213\u001b[0m \u001b[0;34m\u001b[0m\u001b[0m\n",
      "\u001b[0;32m/usr/local/lib/python3.6/dist-packages/tensorflow/python/saved_model/loader_impl.py\u001b[0m in \u001b[0;36mparse_saved_model\u001b[0;34m(export_dir)\u001b[0m\n\u001b[1;32m    112\u001b[0m                   (export_dir,\n\u001b[1;32m    113\u001b[0m                    \u001b[0mconstants\u001b[0m\u001b[0;34m.\u001b[0m\u001b[0mSAVED_MODEL_FILENAME_PBTXT\u001b[0m\u001b[0;34m,\u001b[0m\u001b[0;34m\u001b[0m\u001b[0;34m\u001b[0m\u001b[0m\n\u001b[0;32m--> 114\u001b[0;31m                    constants.SAVED_MODEL_FILENAME_PB))\n\u001b[0m\u001b[1;32m    115\u001b[0m \u001b[0;34m\u001b[0m\u001b[0m\n\u001b[1;32m    116\u001b[0m \u001b[0;34m\u001b[0m\u001b[0m\n",
      "\u001b[0;31mOSError\u001b[0m: SavedModel file does not exist at: models/Keras_ResNet50.h5/{saved_model.pbtxt|saved_model.pb}"
     ]
    }
   ],
   "source": [
    "# Build Keras ResNet50 model\n",
    "model=load_model('models/Keras_ResNet50.h5')\n",
    "model.summary()"
   ]
  },
  {
   "cell_type": "code",
   "execution_count": 129,
   "metadata": {
    "colab": {
     "base_uri": "https://localhost:8080/",
     "height": 381
    },
    "id": "YqsZwyVuNgaC",
    "outputId": "1395558c-e8da-46ec-a9c3-696dc482a54c"
   },
   "outputs": [
    {
     "ename": "FileNotFoundError",
     "evalue": "ignored",
     "output_type": "error",
     "traceback": [
      "\u001b[0;31m---------------------------------------------------------------------------\u001b[0m",
      "\u001b[0;31mFileNotFoundError\u001b[0m                         Traceback (most recent call last)",
      "\u001b[0;32m<ipython-input-129-c9c80a19616b>\u001b[0m in \u001b[0;36m<module>\u001b[0;34m()\u001b[0m\n\u001b[1;32m      4\u001b[0m \u001b[0;32mfrom\u001b[0m \u001b[0mtensorflow\u001b[0m\u001b[0;34m.\u001b[0m\u001b[0mkeras\u001b[0m\u001b[0;34m.\u001b[0m\u001b[0mpreprocessing\u001b[0m\u001b[0;34m.\u001b[0m\u001b[0mimage\u001b[0m \u001b[0;32mimport\u001b[0m \u001b[0mload_img\u001b[0m\u001b[0;34m\u001b[0m\u001b[0;34m\u001b[0m\u001b[0m\n\u001b[1;32m      5\u001b[0m \u001b[0;34m\u001b[0m\u001b[0m\n\u001b[0;32m----> 6\u001b[0;31m \u001b[0mlemon_img\u001b[0m \u001b[0;34m=\u001b[0m \u001b[0mload_img\u001b[0m\u001b[0;34m(\u001b[0m\u001b[0;34m'data/lemon.jpg'\u001b[0m\u001b[0;34m,\u001b[0m \u001b[0mtarget_size\u001b[0m\u001b[0;34m=\u001b[0m\u001b[0;34m(\u001b[0m\u001b[0;36m224\u001b[0m\u001b[0;34m,\u001b[0m \u001b[0;36m224\u001b[0m\u001b[0;34m)\u001b[0m\u001b[0;34m)\u001b[0m\u001b[0;34m\u001b[0m\u001b[0;34m\u001b[0m\u001b[0m\n\u001b[0m\u001b[1;32m      7\u001b[0m \u001b[0mviaduct_img\u001b[0m \u001b[0;34m=\u001b[0m \u001b[0mload_img\u001b[0m\u001b[0;34m(\u001b[0m\u001b[0;34m'data/viaduct.jpg'\u001b[0m\u001b[0;34m,\u001b[0m \u001b[0mtarget_size\u001b[0m\u001b[0;34m=\u001b[0m\u001b[0;34m(\u001b[0m\u001b[0;36m224\u001b[0m\u001b[0;34m,\u001b[0m \u001b[0;36m224\u001b[0m\u001b[0;34m)\u001b[0m\u001b[0;34m)\u001b[0m\u001b[0;34m\u001b[0m\u001b[0;34m\u001b[0m\u001b[0m\n\u001b[1;32m      8\u001b[0m \u001b[0mwater_tower_img\u001b[0m \u001b[0;34m=\u001b[0m \u001b[0mload_img\u001b[0m\u001b[0;34m(\u001b[0m\u001b[0;34m'data/water_tower.jpg'\u001b[0m\u001b[0;34m,\u001b[0m \u001b[0mtarget_size\u001b[0m\u001b[0;34m=\u001b[0m\u001b[0;34m(\u001b[0m\u001b[0;36m224\u001b[0m\u001b[0;34m,\u001b[0m \u001b[0;36m224\u001b[0m\u001b[0;34m)\u001b[0m\u001b[0;34m)\u001b[0m\u001b[0;34m\u001b[0m\u001b[0;34m\u001b[0m\u001b[0m\n",
      "\u001b[0;32m/usr/local/lib/python3.6/dist-packages/tensorflow/python/keras/preprocessing/image.py\u001b[0m in \u001b[0;36mload_img\u001b[0;34m(path, grayscale, color_mode, target_size, interpolation)\u001b[0m\n\u001b[1;32m    298\u001b[0m   \"\"\"\n\u001b[1;32m    299\u001b[0m   return image.load_img(path, grayscale=grayscale, color_mode=color_mode,\n\u001b[0;32m--> 300\u001b[0;31m                         target_size=target_size, interpolation=interpolation)\n\u001b[0m\u001b[1;32m    301\u001b[0m \u001b[0;34m\u001b[0m\u001b[0m\n\u001b[1;32m    302\u001b[0m \u001b[0;34m\u001b[0m\u001b[0m\n",
      "\u001b[0;32m/usr/local/lib/python3.6/dist-packages/keras_preprocessing/image/utils.py\u001b[0m in \u001b[0;36mload_img\u001b[0;34m(path, grayscale, color_mode, target_size, interpolation)\u001b[0m\n\u001b[1;32m    111\u001b[0m         raise ImportError('Could not import PIL.Image. '\n\u001b[1;32m    112\u001b[0m                           'The use of `load_img` requires PIL.')\n\u001b[0;32m--> 113\u001b[0;31m     \u001b[0;32mwith\u001b[0m \u001b[0mopen\u001b[0m\u001b[0;34m(\u001b[0m\u001b[0mpath\u001b[0m\u001b[0;34m,\u001b[0m \u001b[0;34m'rb'\u001b[0m\u001b[0;34m)\u001b[0m \u001b[0;32mas\u001b[0m \u001b[0mf\u001b[0m\u001b[0;34m:\u001b[0m\u001b[0;34m\u001b[0m\u001b[0;34m\u001b[0m\u001b[0m\n\u001b[0m\u001b[1;32m    114\u001b[0m         \u001b[0mimg\u001b[0m \u001b[0;34m=\u001b[0m \u001b[0mpil_image\u001b[0m\u001b[0;34m.\u001b[0m\u001b[0mopen\u001b[0m\u001b[0;34m(\u001b[0m\u001b[0mio\u001b[0m\u001b[0;34m.\u001b[0m\u001b[0mBytesIO\u001b[0m\u001b[0;34m(\u001b[0m\u001b[0mf\u001b[0m\u001b[0;34m.\u001b[0m\u001b[0mread\u001b[0m\u001b[0;34m(\u001b[0m\u001b[0;34m)\u001b[0m\u001b[0;34m)\u001b[0m\u001b[0;34m)\u001b[0m\u001b[0;34m\u001b[0m\u001b[0;34m\u001b[0m\u001b[0m\n\u001b[1;32m    115\u001b[0m         \u001b[0;32mif\u001b[0m \u001b[0mcolor_mode\u001b[0m \u001b[0;34m==\u001b[0m \u001b[0;34m'grayscale'\u001b[0m\u001b[0;34m:\u001b[0m\u001b[0;34m\u001b[0m\u001b[0;34m\u001b[0m\u001b[0m\n",
      "\u001b[0;31mFileNotFoundError\u001b[0m: [Errno 2] No such file or directory: 'data/lemon.jpg'"
     ]
    }
   ],
   "source": [
    "##Import and preprocess 3 sample images\n",
    "# Import 3 sample ImageNet images\n",
    "\n",
    "from tensorflow.keras.preprocessing.image import load_img\n",
    "\n",
    "lemon_img = load_img('data/lemon.jpg', target_size=(224, 224))\n",
    "viaduct_img = load_img('data/viaduct.jpg', target_size=(224, 224))\n",
    "water_tower_img = load_img('data/water_tower.jpg', target_size=(224, 224))"
   ]
  },
  {
   "cell_type": "markdown",
   "metadata": {
    "id": "udtCbsyqNtLp"
   },
   "source": [
    "Use ResNet50 model to classify images"
   ]
  },
  {
   "cell_type": "code",
   "execution_count": 130,
   "metadata": {
    "id": "lYLudjs9Nqwl"
   },
   "outputs": [],
   "source": [
    "# Useful function: presents top 5 predictions and probabilities\n",
    "\n",
    "from tensorflow.keras.preprocessing.image import img_to_array\n",
    "from tensorflow.keras.applications.resnet50 import preprocess_input, decode_predictions\n",
    "import numpy as np\n",
    "import pandas as pd\n",
    "\n",
    "def get_top_5_predictions(img):\n",
    "    x = img_to_array(img)[np.newaxis, ...]\n",
    "    x = preprocess_input(x)\n",
    "    preds = decode_predictions(model.predict(x), top=5)\n",
    "    top_preds = pd.DataFrame(columns=['prediction', 'probability'],\n",
    "                             index=np.arange(5)+1)\n",
    "    for i in range(5):\n",
    "        top_preds.loc[i+1, 'prediction'] = preds[0][i][1]\n",
    "        top_preds.loc[i+1, 'probability'] = preds[0][i][2] \n",
    "    return top_preds"
   ]
  },
  {
   "cell_type": "code",
   "execution_count": 127,
   "metadata": {
    "colab": {
     "base_uri": "https://localhost:8080/",
     "height": 201
    },
    "id": "FHzhp5geNyIb",
    "outputId": "071a7f63-d79d-4c28-a361-508a0c21cc48"
   },
   "outputs": [
    {
     "ename": "NameError",
     "evalue": "ignored",
     "output_type": "error",
     "traceback": [
      "\u001b[0;31m---------------------------------------------------------------------------\u001b[0m",
      "\u001b[0;31mNameError\u001b[0m                                 Traceback (most recent call last)",
      "\u001b[0;32m<ipython-input-127-5976e01f4895>\u001b[0m in \u001b[0;36m<module>\u001b[0;34m()\u001b[0m\n\u001b[1;32m      2\u001b[0m \u001b[0;34m\u001b[0m\u001b[0m\n\u001b[1;32m      3\u001b[0m \u001b[0;31m# Display image\u001b[0m\u001b[0;34m\u001b[0m\u001b[0;34m\u001b[0m\u001b[0;34m\u001b[0m\u001b[0m\n\u001b[0;32m----> 4\u001b[0;31m \u001b[0mlemon_img\u001b[0m\u001b[0;34m\u001b[0m\u001b[0;34m\u001b[0m\u001b[0m\n\u001b[0m",
      "\u001b[0;31mNameError\u001b[0m: name 'lemon_img' is not defined"
     ]
    }
   ],
   "source": [
    "#Image 1: lemon\n",
    "\n",
    "# Display image\n",
    "lemon_img"
   ]
  },
  {
   "cell_type": "code",
   "execution_count": null,
   "metadata": {
    "id": "cAcPbkU1N34s"
   },
   "outputs": [],
   "source": [
    "# Display top 5 predictions\n",
    "\n",
    "get_top_5_predictions(lemon_img)"
   ]
  },
  {
   "cell_type": "code",
   "execution_count": null,
   "metadata": {
    "id": "3ctRrbrDN6F0"
   },
   "outputs": [],
   "source": [
    "# Display image\n",
    "viaduct_img"
   ]
  },
  {
   "cell_type": "code",
   "execution_count": null,
   "metadata": {
    "id": "A-GVpGFoN8xf"
   },
   "outputs": [],
   "source": [
    "# Display top 5 predictions\n",
    "\n",
    "get_top_5_predictions(viaduct_img)"
   ]
  },
  {
   "cell_type": "code",
   "execution_count": null,
   "metadata": {
    "id": "iY2OmwYCOBvA"
   },
   "outputs": [],
   "source": [
    "# Display image\n",
    "water_tower_img"
   ]
  },
  {
   "cell_type": "code",
   "execution_count": null,
   "metadata": {
    "id": "NAFe6GLJOESd"
   },
   "outputs": [],
   "source": [
    "# Display top 5 predictions\n",
    "get_top_5_predictions(water_tower_img)"
   ]
  },
  {
   "cell_type": "markdown",
   "metadata": {
    "id": "0bLs72llOMCY"
   },
   "source": [
    "Tensorflow Hub modules\n",
    "Import and build Tensorflow Hub MobileNet v1 model\n",
    "Today we'll be using Google's MobileNet v1 model, available on Tensorflow Hub. Please see the description on the Tensorflow Hub page for details on it's architecture, how it's trained, and the reference. If you continue using it, please cite it properly! The paper it comes from is:\n",
    "\n",
    "Andrew G. Howard, Menglong Zhu, Bo Chen, Dmitry Kalenichenko, Weijun Wang, Tobias Weyand, Marco Andreetto, Hartwig Adam: \"MobileNets: Efficient Convolutional Neural Networks for Mobile Vision Applications\", 2017.\n",
    "\n",
    "This model takes a long time to download on the Coursera platform, so it is pre-downloaded in your workspace and saved in Tensorflow SavedModel format. If you want to import it on your personal machine, use the following code:\n",
    "\n",
    "module_url = \"https://tfhub.dev/google/imagenet/mobilenet_v1_050_160/classification/4\"\n",
    "model = Sequential([hub.KerasLayer(module_url)])\n",
    "model.build(input_shape=[None, 160, 160, 3])\n",
    "In this coding tutorial, you will instead load the model directly from disk.\n"
   ]
  },
  {
   "cell_type": "code",
   "execution_count": null,
   "metadata": {
    "id": "Xx_eVKW8ONHz"
   },
   "outputs": [],
   "source": [
    "import tensorflow_hub as hub\n",
    "from tensorflow.keras.models import load_model,Sequential"
   ]
  },
  {
   "cell_type": "code",
   "execution_count": null,
   "metadata": {
    "id": "sYwYUWA3ORYx"
   },
   "outputs": [],
   "source": [
    "# Build Google's Mobilenet v1 model\n",
    "\n",
    "module=load_model('models/Tensorflow_MobileNet_v1')\n",
    "model=Sequential(hub.KerasLayer(module))\n",
    "model.build(input_shape=[None,160,160,3])\n",
    "model.summary()"
   ]
  },
  {
   "cell_type": "code",
   "execution_count": null,
   "metadata": {
    "id": "11eGm5aJOUX8"
   },
   "outputs": [],
   "source": [
    "##Use MobileNet model to classify images"
   ]
  },
  {
   "cell_type": "code",
   "execution_count": null,
   "metadata": {
    "id": "6WhjgwRcOWqv"
   },
   "outputs": [],
   "source": [
    "# Import and preprocess 3 sample ImageNet images\n",
    "\n",
    "from tensorflow.keras.preprocessing.image import load_img\n",
    "\n",
    "lemon_img = load_img(\"data/lemon.jpg\", target_size=(160, 160))\n",
    "viaduct_img = load_img(\"data/viaduct.jpg\", target_size=(160, 160))\n",
    "water_tower_img = load_img(\"data/water_tower.jpg\", target_size=(160, 160))"
   ]
  },
  {
   "cell_type": "code",
   "execution_count": null,
   "metadata": {
    "id": "T9_yFi4qOawu"
   },
   "outputs": [],
   "source": [
    "# Read in categories text file\n",
    "\n",
    "with open('data/imagenet_categories.txt') as txt_file:\n",
    "    categories = txt_file.read().splitlines()"
   ]
  },
  {
   "cell_type": "code",
   "execution_count": null,
   "metadata": {
    "id": "RoOn7bSvOdLw"
   },
   "outputs": [],
   "source": [
    "# Useful function: presents top 5 predictions\n",
    "\n",
    "import pandas as pd\n",
    "import numpy as np\n",
    "from tensorflow.keras.preprocessing.image import img_to_array\n",
    "\n",
    "\n",
    "def get_top_5_predictions(img):\n",
    "    x = img_to_array(img)[np.newaxis,...] / 255.0\n",
    "    preds = model.predict(x)\n",
    "    top_preds = pd.DataFrame(columns=['prediction'],\n",
    "                             index=np.arange(5)+1)\n",
    "    sorted_index = np.argsort(-preds[0])\n",
    "    for i in range(5):\n",
    "        ith_pred = categories[sorted_index[i]]\n",
    "        top_preds.loc[i+1, 'prediction'] = ith_pred\n",
    "            \n",
    "    return top_preds"
   ]
  },
  {
   "cell_type": "code",
   "execution_count": null,
   "metadata": {
    "id": "KmpIST-OOf-s"
   },
   "outputs": [],
   "source": [
    "lemon_img"
   ]
  },
  {
   "cell_type": "code",
   "execution_count": null,
   "metadata": {
    "id": "gyo0PlNwOiC8"
   },
   "outputs": [],
   "source": [
    "get_top_5_predictions(lemon_img)"
   ]
  },
  {
   "cell_type": "code",
   "execution_count": null,
   "metadata": {
    "id": "qP422THQOlcg"
   },
   "outputs": [],
   "source": [
    "viaduct_img"
   ]
  },
  {
   "cell_type": "code",
   "execution_count": null,
   "metadata": {
    "id": "uoXLgmBrOoRs"
   },
   "outputs": [],
   "source": [
    "get_top_5_predictions(viaduct_img)"
   ]
  },
  {
   "cell_type": "code",
   "execution_count": null,
   "metadata": {
    "id": "6kiRkWl9OqUZ"
   },
   "outputs": [],
   "source": [
    "water_tower_img"
   ]
  },
  {
   "cell_type": "code",
   "execution_count": null,
   "metadata": {
    "id": "I-AQuCGGOshs"
   },
   "outputs": [],
   "source": [
    "get_top_5_predictions(water_tower_img)"
   ]
  }
 ],
 "metadata": {
  "colab": {
   "collapsed_sections": [],
   "name": "Tensorflow_Complete.ipynb",
   "provenance": []
  },
  "kernelspec": {
   "display_name": "Python 3",
   "language": "python",
   "name": "python3"
  },
  "language_info": {
   "codemirror_mode": {
    "name": "ipython",
    "version": 3
   },
   "file_extension": ".py",
   "mimetype": "text/x-python",
   "name": "python",
   "nbconvert_exporter": "python",
   "pygments_lexer": "ipython3",
   "version": "3.8.5"
  }
 },
 "nbformat": 4,
 "nbformat_minor": 1
}
